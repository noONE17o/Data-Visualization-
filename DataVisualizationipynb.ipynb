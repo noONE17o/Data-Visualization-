{
  "nbformat": 4,
  "nbformat_minor": 0,
  "metadata": {
    "colab": {
      "provenance": [],
      "authorship_tag": "ABX9TyNN95FZdFWTM6kj6ABmJG30",
      "include_colab_link": true
    },
    "kernelspec": {
      "name": "python3",
      "display_name": "Python 3"
    },
    "language_info": {
      "name": "python"
    }
  },
  "cells": [
    {
      "cell_type": "markdown",
      "metadata": {
        "id": "view-in-github",
        "colab_type": "text"
      },
      "source": [
        "<a href=\"https://colab.research.google.com/github/noONE17o/Data-Visualization-/blob/main/DataVisualizationipynb.ipynb\" target=\"_parent\"><img src=\"https://colab.research.google.com/assets/colab-badge.svg\" alt=\"Open In Colab\"/></a>"
      ]
    },
    {
      "cell_type": "markdown",
      "source": [
        "# **Dataset link and import libraries**"
      ],
      "metadata": {
        "id": "Fs7lCP3XX3RJ"
      }
    },
    {
      "cell_type": "code",
      "source": [
        "from google.colab import drive\n",
        "drive.mount('/content/drive')\n",
        "path = 'drive/My Drive/Cloab Notebooks/'"
      ],
      "metadata": {
        "colab": {
          "base_uri": "https://localhost:8080/"
        },
        "id": "Coh_iS4HTLEa",
        "outputId": "219dfcb6-0101-40e3-9f5e-8a517ed82037"
      },
      "execution_count": 2,
      "outputs": [
        {
          "output_type": "stream",
          "name": "stdout",
          "text": [
            "Mounted at /content/drive\n"
          ]
        }
      ]
    },
    {
      "cell_type": "code",
      "execution_count": 3,
      "metadata": {
        "id": "fgO_J_KhLY9w"
      },
      "outputs": [],
      "source": [
        "import pandas as pd\n",
        "import plotly.graph_objects as go\n",
        "import plotly.express as px\n",
        "\n",
        "df = pd.read_csv('/content/drive/My Drive/Colab Notebooks/the_oscar_award.csv')"
      ]
    },
    {
      "cell_type": "markdown",
      "source": [
        "## **Number of Awards Over the Years**\n"
      ],
      "metadata": {
        "id": "D0zfkN7IUqDU"
      }
    },
    {
      "cell_type": "code",
      "source": [
        "\n",
        "awards_over_years = df[df['winner']].groupby(\"year_ceremony\")['winner'].count().reset_index()\n",
        "\n",
        "fig = go.Figure()\n",
        "\n",
        "fig.add_trace(go.Scatter(\n",
        "    x=awards_over_years['year_ceremony'],\n",
        "    y=awards_over_years['winner'],\n",
        "    mode='lines+markers',\n",
        "    name='Awards',\n",
        "    line=dict(color='blue', width=2),\n",
        "    marker=dict(size=8, color='blue', symbol='circle')\n",
        "))\n",
        "\n",
        "fig.update_layout(\n",
        "    title={\n",
        "        'text': \"Number of Awards Over the Years\",\n",
        "        'x': 0.5,\n",
        "        'xanchor': 'center'\n",
        "    },\n",
        "    xaxis_title=\"Year\",\n",
        "    yaxis_title=\"Number of Awards\",\n",
        "    xaxis=dict(\n",
        "        showgrid=True,\n",
        "        zeroline=False,\n",
        "        showline=True,\n",
        "        gridcolor='lightgrey',\n",
        "        tickmode='linear',\n",
        "        tick0=1928,\n",
        "        dtick=5\n",
        "    ),\n",
        "    yaxis=dict(\n",
        "        showgrid=True,\n",
        "        zeroline=False,\n",
        "        showline=True,\n",
        "        gridcolor='lightgrey'\n",
        "    ),\n",
        "    plot_bgcolor='white',\n",
        "    hovermode='x unified'\n",
        ")\n",
        "\n",
        "fig.update_traces(hoverinfo=\"text\", text=awards_over_years['winner'])\n",
        "\n",
        "fig.show()\n"
      ],
      "metadata": {
        "colab": {
          "base_uri": "https://localhost:8080/",
          "height": 542
        },
        "id": "PmD8AuO8L325",
        "outputId": "6c656493-ee11-4156-d18e-0ca91d29cee1"
      },
      "execution_count": 4,
      "outputs": [
        {
          "output_type": "display_data",
          "data": {
            "text/html": [
              "<html>\n",
              "<head><meta charset=\"utf-8\" /></head>\n",
              "<body>\n",
              "    <div>            <script src=\"https://cdnjs.cloudflare.com/ajax/libs/mathjax/2.7.5/MathJax.js?config=TeX-AMS-MML_SVG\"></script><script type=\"text/javascript\">if (window.MathJax && window.MathJax.Hub && window.MathJax.Hub.Config) {window.MathJax.Hub.Config({SVG: {font: \"STIX-Web\"}});}</script>                <script type=\"text/javascript\">window.PlotlyConfig = {MathJaxConfig: 'local'};</script>\n",
              "        <script charset=\"utf-8\" src=\"https://cdn.plot.ly/plotly-2.35.2.min.js\"></script>                <div id=\"f79ae032-71f7-4659-aebd-9823129e3427\" class=\"plotly-graph-div\" style=\"height:525px; width:100%;\"></div>            <script type=\"text/javascript\">                                    window.PLOTLYENV=window.PLOTLYENV || {};                                    if (document.getElementById(\"f79ae032-71f7-4659-aebd-9823129e3427\")) {                    Plotly.newPlot(                        \"f79ae032-71f7-4659-aebd-9823129e3427\",                        [{\"line\":{\"color\":\"blue\",\"width\":2},\"marker\":{\"color\":\"blue\",\"size\":8,\"symbol\":\"circle\"},\"mode\":\"lines+markers\",\"name\":\"Awards\",\"x\":[1928,1929,1930,1931,1932,1933,1935,1936,1937,1938,1939,1940,1941,1942,1943,1944,1945,1946,1947,1948,1949,1950,1951,1952,1953,1954,1955,1956,1957,1958,1959,1960,1961,1962,1963,1964,1965,1966,1967,1968,1969,1970,1971,1972,1973,1974,1975,1976,1977,1978,1979,1980,1981,1982,1983,1984,1985,1986,1987,1988,1989,1990,1991,1992,1993,1994,1995,1996,1997,1998,1999,2000,2001,2002,2003,2004,2005,2006,2007,2008,2009,2010,2011,2012,2013,2014,2015,2016,2017,2018,2019,2020,2021,2022,2023,2024],\"y\":[15,7,8,9,14,19,17,18,22,25,25,26,24,28,30,26,27,28,28,28,32,32,30,29,33,31,33,27,30,25,25,28,29,30,26,27,27,29,30,26,26,24,26,23,25,25,25,26,24,27,27,27,22,26,26,25,27,26,26,24,26,25,26,25,26,25,27,27,26,25,26,25,26,27,25,25,26,25,26,25,25,28,28,27,29,28,28,27,28,29,28,28,25,27,29,27],\"type\":\"scatter\",\"hoverinfo\":\"text\",\"text\":[15.0,7.0,8.0,9.0,14.0,19.0,17.0,18.0,22.0,25.0,25.0,26.0,24.0,28.0,30.0,26.0,27.0,28.0,28.0,28.0,32.0,32.0,30.0,29.0,33.0,31.0,33.0,27.0,30.0,25.0,25.0,28.0,29.0,30.0,26.0,27.0,27.0,29.0,30.0,26.0,26.0,24.0,26.0,23.0,25.0,25.0,25.0,26.0,24.0,27.0,27.0,27.0,22.0,26.0,26.0,25.0,27.0,26.0,26.0,24.0,26.0,25.0,26.0,25.0,26.0,25.0,27.0,27.0,26.0,25.0,26.0,25.0,26.0,27.0,25.0,25.0,26.0,25.0,26.0,25.0,25.0,28.0,28.0,27.0,29.0,28.0,28.0,27.0,28.0,29.0,28.0,28.0,25.0,27.0,29.0,27.0]}],                        {\"template\":{\"data\":{\"histogram2dcontour\":[{\"type\":\"histogram2dcontour\",\"colorbar\":{\"outlinewidth\":0,\"ticks\":\"\"},\"colorscale\":[[0.0,\"#0d0887\"],[0.1111111111111111,\"#46039f\"],[0.2222222222222222,\"#7201a8\"],[0.3333333333333333,\"#9c179e\"],[0.4444444444444444,\"#bd3786\"],[0.5555555555555556,\"#d8576b\"],[0.6666666666666666,\"#ed7953\"],[0.7777777777777778,\"#fb9f3a\"],[0.8888888888888888,\"#fdca26\"],[1.0,\"#f0f921\"]]}],\"choropleth\":[{\"type\":\"choropleth\",\"colorbar\":{\"outlinewidth\":0,\"ticks\":\"\"}}],\"histogram2d\":[{\"type\":\"histogram2d\",\"colorbar\":{\"outlinewidth\":0,\"ticks\":\"\"},\"colorscale\":[[0.0,\"#0d0887\"],[0.1111111111111111,\"#46039f\"],[0.2222222222222222,\"#7201a8\"],[0.3333333333333333,\"#9c179e\"],[0.4444444444444444,\"#bd3786\"],[0.5555555555555556,\"#d8576b\"],[0.6666666666666666,\"#ed7953\"],[0.7777777777777778,\"#fb9f3a\"],[0.8888888888888888,\"#fdca26\"],[1.0,\"#f0f921\"]]}],\"heatmap\":[{\"type\":\"heatmap\",\"colorbar\":{\"outlinewidth\":0,\"ticks\":\"\"},\"colorscale\":[[0.0,\"#0d0887\"],[0.1111111111111111,\"#46039f\"],[0.2222222222222222,\"#7201a8\"],[0.3333333333333333,\"#9c179e\"],[0.4444444444444444,\"#bd3786\"],[0.5555555555555556,\"#d8576b\"],[0.6666666666666666,\"#ed7953\"],[0.7777777777777778,\"#fb9f3a\"],[0.8888888888888888,\"#fdca26\"],[1.0,\"#f0f921\"]]}],\"heatmapgl\":[{\"type\":\"heatmapgl\",\"colorbar\":{\"outlinewidth\":0,\"ticks\":\"\"},\"colorscale\":[[0.0,\"#0d0887\"],[0.1111111111111111,\"#46039f\"],[0.2222222222222222,\"#7201a8\"],[0.3333333333333333,\"#9c179e\"],[0.4444444444444444,\"#bd3786\"],[0.5555555555555556,\"#d8576b\"],[0.6666666666666666,\"#ed7953\"],[0.7777777777777778,\"#fb9f3a\"],[0.8888888888888888,\"#fdca26\"],[1.0,\"#f0f921\"]]}],\"contourcarpet\":[{\"type\":\"contourcarpet\",\"colorbar\":{\"outlinewidth\":0,\"ticks\":\"\"}}],\"contour\":[{\"type\":\"contour\",\"colorbar\":{\"outlinewidth\":0,\"ticks\":\"\"},\"colorscale\":[[0.0,\"#0d0887\"],[0.1111111111111111,\"#46039f\"],[0.2222222222222222,\"#7201a8\"],[0.3333333333333333,\"#9c179e\"],[0.4444444444444444,\"#bd3786\"],[0.5555555555555556,\"#d8576b\"],[0.6666666666666666,\"#ed7953\"],[0.7777777777777778,\"#fb9f3a\"],[0.8888888888888888,\"#fdca26\"],[1.0,\"#f0f921\"]]}],\"surface\":[{\"type\":\"surface\",\"colorbar\":{\"outlinewidth\":0,\"ticks\":\"\"},\"colorscale\":[[0.0,\"#0d0887\"],[0.1111111111111111,\"#46039f\"],[0.2222222222222222,\"#7201a8\"],[0.3333333333333333,\"#9c179e\"],[0.4444444444444444,\"#bd3786\"],[0.5555555555555556,\"#d8576b\"],[0.6666666666666666,\"#ed7953\"],[0.7777777777777778,\"#fb9f3a\"],[0.8888888888888888,\"#fdca26\"],[1.0,\"#f0f921\"]]}],\"mesh3d\":[{\"type\":\"mesh3d\",\"colorbar\":{\"outlinewidth\":0,\"ticks\":\"\"}}],\"scatter\":[{\"fillpattern\":{\"fillmode\":\"overlay\",\"size\":10,\"solidity\":0.2},\"type\":\"scatter\"}],\"parcoords\":[{\"type\":\"parcoords\",\"line\":{\"colorbar\":{\"outlinewidth\":0,\"ticks\":\"\"}}}],\"scatterpolargl\":[{\"type\":\"scatterpolargl\",\"marker\":{\"colorbar\":{\"outlinewidth\":0,\"ticks\":\"\"}}}],\"bar\":[{\"error_x\":{\"color\":\"#2a3f5f\"},\"error_y\":{\"color\":\"#2a3f5f\"},\"marker\":{\"line\":{\"color\":\"#E5ECF6\",\"width\":0.5},\"pattern\":{\"fillmode\":\"overlay\",\"size\":10,\"solidity\":0.2}},\"type\":\"bar\"}],\"scattergeo\":[{\"type\":\"scattergeo\",\"marker\":{\"colorbar\":{\"outlinewidth\":0,\"ticks\":\"\"}}}],\"scatterpolar\":[{\"type\":\"scatterpolar\",\"marker\":{\"colorbar\":{\"outlinewidth\":0,\"ticks\":\"\"}}}],\"histogram\":[{\"marker\":{\"pattern\":{\"fillmode\":\"overlay\",\"size\":10,\"solidity\":0.2}},\"type\":\"histogram\"}],\"scattergl\":[{\"type\":\"scattergl\",\"marker\":{\"colorbar\":{\"outlinewidth\":0,\"ticks\":\"\"}}}],\"scatter3d\":[{\"type\":\"scatter3d\",\"line\":{\"colorbar\":{\"outlinewidth\":0,\"ticks\":\"\"}},\"marker\":{\"colorbar\":{\"outlinewidth\":0,\"ticks\":\"\"}}}],\"scattermapbox\":[{\"type\":\"scattermapbox\",\"marker\":{\"colorbar\":{\"outlinewidth\":0,\"ticks\":\"\"}}}],\"scatterternary\":[{\"type\":\"scatterternary\",\"marker\":{\"colorbar\":{\"outlinewidth\":0,\"ticks\":\"\"}}}],\"scattercarpet\":[{\"type\":\"scattercarpet\",\"marker\":{\"colorbar\":{\"outlinewidth\":0,\"ticks\":\"\"}}}],\"carpet\":[{\"aaxis\":{\"endlinecolor\":\"#2a3f5f\",\"gridcolor\":\"white\",\"linecolor\":\"white\",\"minorgridcolor\":\"white\",\"startlinecolor\":\"#2a3f5f\"},\"baxis\":{\"endlinecolor\":\"#2a3f5f\",\"gridcolor\":\"white\",\"linecolor\":\"white\",\"minorgridcolor\":\"white\",\"startlinecolor\":\"#2a3f5f\"},\"type\":\"carpet\"}],\"table\":[{\"cells\":{\"fill\":{\"color\":\"#EBF0F8\"},\"line\":{\"color\":\"white\"}},\"header\":{\"fill\":{\"color\":\"#C8D4E3\"},\"line\":{\"color\":\"white\"}},\"type\":\"table\"}],\"barpolar\":[{\"marker\":{\"line\":{\"color\":\"#E5ECF6\",\"width\":0.5},\"pattern\":{\"fillmode\":\"overlay\",\"size\":10,\"solidity\":0.2}},\"type\":\"barpolar\"}],\"pie\":[{\"automargin\":true,\"type\":\"pie\"}]},\"layout\":{\"autotypenumbers\":\"strict\",\"colorway\":[\"#636efa\",\"#EF553B\",\"#00cc96\",\"#ab63fa\",\"#FFA15A\",\"#19d3f3\",\"#FF6692\",\"#B6E880\",\"#FF97FF\",\"#FECB52\"],\"font\":{\"color\":\"#2a3f5f\"},\"hovermode\":\"closest\",\"hoverlabel\":{\"align\":\"left\"},\"paper_bgcolor\":\"white\",\"plot_bgcolor\":\"#E5ECF6\",\"polar\":{\"bgcolor\":\"#E5ECF6\",\"angularaxis\":{\"gridcolor\":\"white\",\"linecolor\":\"white\",\"ticks\":\"\"},\"radialaxis\":{\"gridcolor\":\"white\",\"linecolor\":\"white\",\"ticks\":\"\"}},\"ternary\":{\"bgcolor\":\"#E5ECF6\",\"aaxis\":{\"gridcolor\":\"white\",\"linecolor\":\"white\",\"ticks\":\"\"},\"baxis\":{\"gridcolor\":\"white\",\"linecolor\":\"white\",\"ticks\":\"\"},\"caxis\":{\"gridcolor\":\"white\",\"linecolor\":\"white\",\"ticks\":\"\"}},\"coloraxis\":{\"colorbar\":{\"outlinewidth\":0,\"ticks\":\"\"}},\"colorscale\":{\"sequential\":[[0.0,\"#0d0887\"],[0.1111111111111111,\"#46039f\"],[0.2222222222222222,\"#7201a8\"],[0.3333333333333333,\"#9c179e\"],[0.4444444444444444,\"#bd3786\"],[0.5555555555555556,\"#d8576b\"],[0.6666666666666666,\"#ed7953\"],[0.7777777777777778,\"#fb9f3a\"],[0.8888888888888888,\"#fdca26\"],[1.0,\"#f0f921\"]],\"sequentialminus\":[[0.0,\"#0d0887\"],[0.1111111111111111,\"#46039f\"],[0.2222222222222222,\"#7201a8\"],[0.3333333333333333,\"#9c179e\"],[0.4444444444444444,\"#bd3786\"],[0.5555555555555556,\"#d8576b\"],[0.6666666666666666,\"#ed7953\"],[0.7777777777777778,\"#fb9f3a\"],[0.8888888888888888,\"#fdca26\"],[1.0,\"#f0f921\"]],\"diverging\":[[0,\"#8e0152\"],[0.1,\"#c51b7d\"],[0.2,\"#de77ae\"],[0.3,\"#f1b6da\"],[0.4,\"#fde0ef\"],[0.5,\"#f7f7f7\"],[0.6,\"#e6f5d0\"],[0.7,\"#b8e186\"],[0.8,\"#7fbc41\"],[0.9,\"#4d9221\"],[1,\"#276419\"]]},\"xaxis\":{\"gridcolor\":\"white\",\"linecolor\":\"white\",\"ticks\":\"\",\"title\":{\"standoff\":15},\"zerolinecolor\":\"white\",\"automargin\":true,\"zerolinewidth\":2},\"yaxis\":{\"gridcolor\":\"white\",\"linecolor\":\"white\",\"ticks\":\"\",\"title\":{\"standoff\":15},\"zerolinecolor\":\"white\",\"automargin\":true,\"zerolinewidth\":2},\"scene\":{\"xaxis\":{\"backgroundcolor\":\"#E5ECF6\",\"gridcolor\":\"white\",\"linecolor\":\"white\",\"showbackground\":true,\"ticks\":\"\",\"zerolinecolor\":\"white\",\"gridwidth\":2},\"yaxis\":{\"backgroundcolor\":\"#E5ECF6\",\"gridcolor\":\"white\",\"linecolor\":\"white\",\"showbackground\":true,\"ticks\":\"\",\"zerolinecolor\":\"white\",\"gridwidth\":2},\"zaxis\":{\"backgroundcolor\":\"#E5ECF6\",\"gridcolor\":\"white\",\"linecolor\":\"white\",\"showbackground\":true,\"ticks\":\"\",\"zerolinecolor\":\"white\",\"gridwidth\":2}},\"shapedefaults\":{\"line\":{\"color\":\"#2a3f5f\"}},\"annotationdefaults\":{\"arrowcolor\":\"#2a3f5f\",\"arrowhead\":0,\"arrowwidth\":1},\"geo\":{\"bgcolor\":\"white\",\"landcolor\":\"#E5ECF6\",\"subunitcolor\":\"white\",\"showland\":true,\"showlakes\":true,\"lakecolor\":\"white\"},\"title\":{\"x\":0.05},\"mapbox\":{\"style\":\"light\"}}},\"title\":{\"text\":\"Number of Awards Over the Years\",\"x\":0.5,\"xanchor\":\"center\"},\"xaxis\":{\"title\":{\"text\":\"Year\"},\"showgrid\":true,\"zeroline\":false,\"showline\":true,\"gridcolor\":\"lightgrey\",\"tickmode\":\"linear\",\"tick0\":1928,\"dtick\":5},\"yaxis\":{\"title\":{\"text\":\"Number of Awards\"},\"showgrid\":true,\"zeroline\":false,\"showline\":true,\"gridcolor\":\"lightgrey\"},\"plot_bgcolor\":\"white\",\"hovermode\":\"x unified\"},                        {\"responsive\": true}                    ).then(function(){\n",
              "                            \n",
              "var gd = document.getElementById('f79ae032-71f7-4659-aebd-9823129e3427');\n",
              "var x = new MutationObserver(function (mutations, observer) {{\n",
              "        var display = window.getComputedStyle(gd).display;\n",
              "        if (!display || display === 'none') {{\n",
              "            console.log([gd, 'removed!']);\n",
              "            Plotly.purge(gd);\n",
              "            observer.disconnect();\n",
              "        }}\n",
              "}});\n",
              "\n",
              "// Listen for the removal of the full notebook cells\n",
              "var notebookContainer = gd.closest('#notebook-container');\n",
              "if (notebookContainer) {{\n",
              "    x.observe(notebookContainer, {childList: true});\n",
              "}}\n",
              "\n",
              "// Listen for the clearing of the current output cell\n",
              "var outputEl = gd.closest('.output');\n",
              "if (outputEl) {{\n",
              "    x.observe(outputEl, {childList: true});\n",
              "}}\n",
              "\n",
              "                        })                };                            </script>        </div>\n",
              "</body>\n",
              "</html>"
            ]
          },
          "metadata": {}
        }
      ]
    },
    {
      "cell_type": "markdown",
      "source": [
        "# **Top** **Award**-**Winning** **Films**"
      ],
      "metadata": {
        "id": "TWsZVwjlXHVX"
      }
    },
    {
      "cell_type": "code",
      "source": [
        "\n",
        "top_winning_films = (\n",
        "    df[df['winner']]\n",
        "    .groupby('film')\n",
        "    .agg(\n",
        "        number_of_awards=('winner', 'count'),\n",
        "        years_of_wins=('year_film', lambda x: ', '.join(map(str, sorted(x))))\n",
        "    )\n",
        "    .sort_values(by='number_of_awards', ascending=False)\n",
        "    .head(10)\n",
        "    .reset_index()\n",
        ")\n",
        "\n",
        "fig = go.Figure()\n",
        "\n",
        "fig.add_trace(go.Bar(\n",
        "    x=top_winning_films['film'],\n",
        "    y=top_winning_films['number_of_awards'],\n",
        "    text=top_winning_films['number_of_awards'],\n",
        "    textposition='outside',\n",
        "    marker=dict(color='green'),\n",
        "    name='Awards',\n",
        "    hovertext=top_winning_films['years_of_wins'],\n",
        "    hoverinfo='text',\n",
        "    width=0.4\n",
        "))\n",
        "\n",
        "fig.update_layout(\n",
        "    title={\n",
        "        'text': \"Top Award-Winning Films\",\n",
        "        'x': 0.5,\n",
        "        'xanchor': 'center'\n",
        "    },\n",
        "    xaxis_title=\"Film\",\n",
        "    yaxis_title=\"Number of Awards\",\n",
        "    xaxis=dict(\n",
        "        showgrid=False,\n",
        "        zeroline=False,\n",
        "        showline=True,\n",
        "        tickangle=45,\n",
        "        tickfont=dict(size=10)\n",
        "    ),\n",
        "    yaxis=dict(\n",
        "        showgrid=True,\n",
        "        zeroline=False,\n",
        "        showline=True,\n",
        "        gridcolor='lightgrey',\n",
        "        title_standoff=10\n",
        "    ),\n",
        "    plot_bgcolor='white',\n",
        "    hovermode='x unified',\n",
        "    height=600,\n",
        "    width=1000\n",
        ")\n",
        "\n",
        "fig.show()\n"
      ],
      "metadata": {
        "colab": {
          "base_uri": "https://localhost:8080/",
          "height": 617
        },
        "id": "uYu5duqCrZYJ",
        "outputId": "8b582915-b4ad-4380-82ec-94564f92c440"
      },
      "execution_count": 7,
      "outputs": [
        {
          "output_type": "display_data",
          "data": {
            "text/html": [
              "<html>\n",
              "<head><meta charset=\"utf-8\" /></head>\n",
              "<body>\n",
              "    <div>            <script src=\"https://cdnjs.cloudflare.com/ajax/libs/mathjax/2.7.5/MathJax.js?config=TeX-AMS-MML_SVG\"></script><script type=\"text/javascript\">if (window.MathJax && window.MathJax.Hub && window.MathJax.Hub.Config) {window.MathJax.Hub.Config({SVG: {font: \"STIX-Web\"}});}</script>                <script type=\"text/javascript\">window.PlotlyConfig = {MathJaxConfig: 'local'};</script>\n",
              "        <script charset=\"utf-8\" src=\"https://cdn.plot.ly/plotly-2.35.2.min.js\"></script>                <div id=\"9b8f0b7d-6521-40e1-aae7-03e89d320de4\" class=\"plotly-graph-div\" style=\"height:600px; width:1000px;\"></div>            <script type=\"text/javascript\">                                    window.PLOTLYENV=window.PLOTLYENV || {};                                    if (document.getElementById(\"9b8f0b7d-6521-40e1-aae7-03e89d320de4\")) {                    Plotly.newPlot(                        \"9b8f0b7d-6521-40e1-aae7-03e89d320de4\",                        [{\"hoverinfo\":\"text\",\"hovertext\":[\"1953, 1997, 1997, 1997, 1997, 1997, 1997, 1997, 1997, 1997, 1997, 1997\",\"1961, 1961, 1961, 1961, 1961, 1961, 1961, 1961, 1961, 1961, 2021\",\"2003, 2003, 2003, 2003, 2003, 2003, 2003, 2003, 2003, 2003, 2003\",\"1959, 1959, 1959, 1959, 1959, 1959, 1959, 1959, 1959, 1959, 1959\",\"1996, 1996, 1996, 1996, 1996, 1996, 1996, 1996, 1996\",\"1958, 1958, 1958, 1958, 1958, 1958, 1958, 1958, 1958\",\"1987, 1987, 1987, 1987, 1987, 1987, 1987, 1987, 1987\",\"1939, 1939, 1939, 1939, 1939, 1939, 1939, 1939\",\"1954, 1954, 1954, 1954, 1954, 1954, 1954, 1954\",\"1984, 1984, 1984, 1984, 1984, 1984, 1984, 1984\"],\"marker\":{\"color\":\"green\"},\"name\":\"Awards\",\"text\":[12.0,11.0,11.0,11.0,9.0,9.0,9.0,8.0,8.0,8.0],\"textposition\":\"outside\",\"width\":0.4,\"x\":[\"Titanic\",\"West Side Story\",\"The Lord of the Rings: The Return of the King\",\"Ben-Hur\",\"The English Patient\",\"Gigi\",\"The Last Emperor\",\"Gone with the Wind\",\"On the Waterfront\",\"Amadeus\"],\"y\":[12,11,11,11,9,9,9,8,8,8],\"type\":\"bar\"}],                        {\"template\":{\"data\":{\"histogram2dcontour\":[{\"type\":\"histogram2dcontour\",\"colorbar\":{\"outlinewidth\":0,\"ticks\":\"\"},\"colorscale\":[[0.0,\"#0d0887\"],[0.1111111111111111,\"#46039f\"],[0.2222222222222222,\"#7201a8\"],[0.3333333333333333,\"#9c179e\"],[0.4444444444444444,\"#bd3786\"],[0.5555555555555556,\"#d8576b\"],[0.6666666666666666,\"#ed7953\"],[0.7777777777777778,\"#fb9f3a\"],[0.8888888888888888,\"#fdca26\"],[1.0,\"#f0f921\"]]}],\"choropleth\":[{\"type\":\"choropleth\",\"colorbar\":{\"outlinewidth\":0,\"ticks\":\"\"}}],\"histogram2d\":[{\"type\":\"histogram2d\",\"colorbar\":{\"outlinewidth\":0,\"ticks\":\"\"},\"colorscale\":[[0.0,\"#0d0887\"],[0.1111111111111111,\"#46039f\"],[0.2222222222222222,\"#7201a8\"],[0.3333333333333333,\"#9c179e\"],[0.4444444444444444,\"#bd3786\"],[0.5555555555555556,\"#d8576b\"],[0.6666666666666666,\"#ed7953\"],[0.7777777777777778,\"#fb9f3a\"],[0.8888888888888888,\"#fdca26\"],[1.0,\"#f0f921\"]]}],\"heatmap\":[{\"type\":\"heatmap\",\"colorbar\":{\"outlinewidth\":0,\"ticks\":\"\"},\"colorscale\":[[0.0,\"#0d0887\"],[0.1111111111111111,\"#46039f\"],[0.2222222222222222,\"#7201a8\"],[0.3333333333333333,\"#9c179e\"],[0.4444444444444444,\"#bd3786\"],[0.5555555555555556,\"#d8576b\"],[0.6666666666666666,\"#ed7953\"],[0.7777777777777778,\"#fb9f3a\"],[0.8888888888888888,\"#fdca26\"],[1.0,\"#f0f921\"]]}],\"heatmapgl\":[{\"type\":\"heatmapgl\",\"colorbar\":{\"outlinewidth\":0,\"ticks\":\"\"},\"colorscale\":[[0.0,\"#0d0887\"],[0.1111111111111111,\"#46039f\"],[0.2222222222222222,\"#7201a8\"],[0.3333333333333333,\"#9c179e\"],[0.4444444444444444,\"#bd3786\"],[0.5555555555555556,\"#d8576b\"],[0.6666666666666666,\"#ed7953\"],[0.7777777777777778,\"#fb9f3a\"],[0.8888888888888888,\"#fdca26\"],[1.0,\"#f0f921\"]]}],\"contourcarpet\":[{\"type\":\"contourcarpet\",\"colorbar\":{\"outlinewidth\":0,\"ticks\":\"\"}}],\"contour\":[{\"type\":\"contour\",\"colorbar\":{\"outlinewidth\":0,\"ticks\":\"\"},\"colorscale\":[[0.0,\"#0d0887\"],[0.1111111111111111,\"#46039f\"],[0.2222222222222222,\"#7201a8\"],[0.3333333333333333,\"#9c179e\"],[0.4444444444444444,\"#bd3786\"],[0.5555555555555556,\"#d8576b\"],[0.6666666666666666,\"#ed7953\"],[0.7777777777777778,\"#fb9f3a\"],[0.8888888888888888,\"#fdca26\"],[1.0,\"#f0f921\"]]}],\"surface\":[{\"type\":\"surface\",\"colorbar\":{\"outlinewidth\":0,\"ticks\":\"\"},\"colorscale\":[[0.0,\"#0d0887\"],[0.1111111111111111,\"#46039f\"],[0.2222222222222222,\"#7201a8\"],[0.3333333333333333,\"#9c179e\"],[0.4444444444444444,\"#bd3786\"],[0.5555555555555556,\"#d8576b\"],[0.6666666666666666,\"#ed7953\"],[0.7777777777777778,\"#fb9f3a\"],[0.8888888888888888,\"#fdca26\"],[1.0,\"#f0f921\"]]}],\"mesh3d\":[{\"type\":\"mesh3d\",\"colorbar\":{\"outlinewidth\":0,\"ticks\":\"\"}}],\"scatter\":[{\"fillpattern\":{\"fillmode\":\"overlay\",\"size\":10,\"solidity\":0.2},\"type\":\"scatter\"}],\"parcoords\":[{\"type\":\"parcoords\",\"line\":{\"colorbar\":{\"outlinewidth\":0,\"ticks\":\"\"}}}],\"scatterpolargl\":[{\"type\":\"scatterpolargl\",\"marker\":{\"colorbar\":{\"outlinewidth\":0,\"ticks\":\"\"}}}],\"bar\":[{\"error_x\":{\"color\":\"#2a3f5f\"},\"error_y\":{\"color\":\"#2a3f5f\"},\"marker\":{\"line\":{\"color\":\"#E5ECF6\",\"width\":0.5},\"pattern\":{\"fillmode\":\"overlay\",\"size\":10,\"solidity\":0.2}},\"type\":\"bar\"}],\"scattergeo\":[{\"type\":\"scattergeo\",\"marker\":{\"colorbar\":{\"outlinewidth\":0,\"ticks\":\"\"}}}],\"scatterpolar\":[{\"type\":\"scatterpolar\",\"marker\":{\"colorbar\":{\"outlinewidth\":0,\"ticks\":\"\"}}}],\"histogram\":[{\"marker\":{\"pattern\":{\"fillmode\":\"overlay\",\"size\":10,\"solidity\":0.2}},\"type\":\"histogram\"}],\"scattergl\":[{\"type\":\"scattergl\",\"marker\":{\"colorbar\":{\"outlinewidth\":0,\"ticks\":\"\"}}}],\"scatter3d\":[{\"type\":\"scatter3d\",\"line\":{\"colorbar\":{\"outlinewidth\":0,\"ticks\":\"\"}},\"marker\":{\"colorbar\":{\"outlinewidth\":0,\"ticks\":\"\"}}}],\"scattermapbox\":[{\"type\":\"scattermapbox\",\"marker\":{\"colorbar\":{\"outlinewidth\":0,\"ticks\":\"\"}}}],\"scatterternary\":[{\"type\":\"scatterternary\",\"marker\":{\"colorbar\":{\"outlinewidth\":0,\"ticks\":\"\"}}}],\"scattercarpet\":[{\"type\":\"scattercarpet\",\"marker\":{\"colorbar\":{\"outlinewidth\":0,\"ticks\":\"\"}}}],\"carpet\":[{\"aaxis\":{\"endlinecolor\":\"#2a3f5f\",\"gridcolor\":\"white\",\"linecolor\":\"white\",\"minorgridcolor\":\"white\",\"startlinecolor\":\"#2a3f5f\"},\"baxis\":{\"endlinecolor\":\"#2a3f5f\",\"gridcolor\":\"white\",\"linecolor\":\"white\",\"minorgridcolor\":\"white\",\"startlinecolor\":\"#2a3f5f\"},\"type\":\"carpet\"}],\"table\":[{\"cells\":{\"fill\":{\"color\":\"#EBF0F8\"},\"line\":{\"color\":\"white\"}},\"header\":{\"fill\":{\"color\":\"#C8D4E3\"},\"line\":{\"color\":\"white\"}},\"type\":\"table\"}],\"barpolar\":[{\"marker\":{\"line\":{\"color\":\"#E5ECF6\",\"width\":0.5},\"pattern\":{\"fillmode\":\"overlay\",\"size\":10,\"solidity\":0.2}},\"type\":\"barpolar\"}],\"pie\":[{\"automargin\":true,\"type\":\"pie\"}]},\"layout\":{\"autotypenumbers\":\"strict\",\"colorway\":[\"#636efa\",\"#EF553B\",\"#00cc96\",\"#ab63fa\",\"#FFA15A\",\"#19d3f3\",\"#FF6692\",\"#B6E880\",\"#FF97FF\",\"#FECB52\"],\"font\":{\"color\":\"#2a3f5f\"},\"hovermode\":\"closest\",\"hoverlabel\":{\"align\":\"left\"},\"paper_bgcolor\":\"white\",\"plot_bgcolor\":\"#E5ECF6\",\"polar\":{\"bgcolor\":\"#E5ECF6\",\"angularaxis\":{\"gridcolor\":\"white\",\"linecolor\":\"white\",\"ticks\":\"\"},\"radialaxis\":{\"gridcolor\":\"white\",\"linecolor\":\"white\",\"ticks\":\"\"}},\"ternary\":{\"bgcolor\":\"#E5ECF6\",\"aaxis\":{\"gridcolor\":\"white\",\"linecolor\":\"white\",\"ticks\":\"\"},\"baxis\":{\"gridcolor\":\"white\",\"linecolor\":\"white\",\"ticks\":\"\"},\"caxis\":{\"gridcolor\":\"white\",\"linecolor\":\"white\",\"ticks\":\"\"}},\"coloraxis\":{\"colorbar\":{\"outlinewidth\":0,\"ticks\":\"\"}},\"colorscale\":{\"sequential\":[[0.0,\"#0d0887\"],[0.1111111111111111,\"#46039f\"],[0.2222222222222222,\"#7201a8\"],[0.3333333333333333,\"#9c179e\"],[0.4444444444444444,\"#bd3786\"],[0.5555555555555556,\"#d8576b\"],[0.6666666666666666,\"#ed7953\"],[0.7777777777777778,\"#fb9f3a\"],[0.8888888888888888,\"#fdca26\"],[1.0,\"#f0f921\"]],\"sequentialminus\":[[0.0,\"#0d0887\"],[0.1111111111111111,\"#46039f\"],[0.2222222222222222,\"#7201a8\"],[0.3333333333333333,\"#9c179e\"],[0.4444444444444444,\"#bd3786\"],[0.5555555555555556,\"#d8576b\"],[0.6666666666666666,\"#ed7953\"],[0.7777777777777778,\"#fb9f3a\"],[0.8888888888888888,\"#fdca26\"],[1.0,\"#f0f921\"]],\"diverging\":[[0,\"#8e0152\"],[0.1,\"#c51b7d\"],[0.2,\"#de77ae\"],[0.3,\"#f1b6da\"],[0.4,\"#fde0ef\"],[0.5,\"#f7f7f7\"],[0.6,\"#e6f5d0\"],[0.7,\"#b8e186\"],[0.8,\"#7fbc41\"],[0.9,\"#4d9221\"],[1,\"#276419\"]]},\"xaxis\":{\"gridcolor\":\"white\",\"linecolor\":\"white\",\"ticks\":\"\",\"title\":{\"standoff\":15},\"zerolinecolor\":\"white\",\"automargin\":true,\"zerolinewidth\":2},\"yaxis\":{\"gridcolor\":\"white\",\"linecolor\":\"white\",\"ticks\":\"\",\"title\":{\"standoff\":15},\"zerolinecolor\":\"white\",\"automargin\":true,\"zerolinewidth\":2},\"scene\":{\"xaxis\":{\"backgroundcolor\":\"#E5ECF6\",\"gridcolor\":\"white\",\"linecolor\":\"white\",\"showbackground\":true,\"ticks\":\"\",\"zerolinecolor\":\"white\",\"gridwidth\":2},\"yaxis\":{\"backgroundcolor\":\"#E5ECF6\",\"gridcolor\":\"white\",\"linecolor\":\"white\",\"showbackground\":true,\"ticks\":\"\",\"zerolinecolor\":\"white\",\"gridwidth\":2},\"zaxis\":{\"backgroundcolor\":\"#E5ECF6\",\"gridcolor\":\"white\",\"linecolor\":\"white\",\"showbackground\":true,\"ticks\":\"\",\"zerolinecolor\":\"white\",\"gridwidth\":2}},\"shapedefaults\":{\"line\":{\"color\":\"#2a3f5f\"}},\"annotationdefaults\":{\"arrowcolor\":\"#2a3f5f\",\"arrowhead\":0,\"arrowwidth\":1},\"geo\":{\"bgcolor\":\"white\",\"landcolor\":\"#E5ECF6\",\"subunitcolor\":\"white\",\"showland\":true,\"showlakes\":true,\"lakecolor\":\"white\"},\"title\":{\"x\":0.05},\"mapbox\":{\"style\":\"light\"}}},\"title\":{\"text\":\"Top Award-Winning Films\",\"x\":0.5,\"xanchor\":\"center\"},\"xaxis\":{\"tickfont\":{\"size\":10},\"title\":{\"text\":\"Film\"},\"showgrid\":false,\"zeroline\":false,\"showline\":true,\"tickangle\":45},\"yaxis\":{\"title\":{\"text\":\"Number of Awards\",\"standoff\":10},\"showgrid\":true,\"zeroline\":false,\"showline\":true,\"gridcolor\":\"lightgrey\"},\"plot_bgcolor\":\"white\",\"hovermode\":\"x unified\",\"height\":600,\"width\":1000},                        {\"responsive\": true}                    ).then(function(){\n",
              "                            \n",
              "var gd = document.getElementById('9b8f0b7d-6521-40e1-aae7-03e89d320de4');\n",
              "var x = new MutationObserver(function (mutations, observer) {{\n",
              "        var display = window.getComputedStyle(gd).display;\n",
              "        if (!display || display === 'none') {{\n",
              "            console.log([gd, 'removed!']);\n",
              "            Plotly.purge(gd);\n",
              "            observer.disconnect();\n",
              "        }}\n",
              "}});\n",
              "\n",
              "// Listen for the removal of the full notebook cells\n",
              "var notebookContainer = gd.closest('#notebook-container');\n",
              "if (notebookContainer) {{\n",
              "    x.observe(notebookContainer, {childList: true});\n",
              "}}\n",
              "\n",
              "// Listen for the clearing of the current output cell\n",
              "var outputEl = gd.closest('.output');\n",
              "if (outputEl) {{\n",
              "    x.observe(outputEl, {childList: true});\n",
              "}}\n",
              "\n",
              "                        })                };                            </script>        </div>\n",
              "</body>\n",
              "</html>"
            ]
          },
          "metadata": {}
        }
      ]
    },
    {
      "cell_type": "markdown",
      "source": [
        "# **Who are the actors with the most Oscar wins?**\n"
      ],
      "metadata": {
        "id": "ZGAEIzH3kSUv"
      }
    },
    {
      "cell_type": "code",
      "source": [
        "\n",
        "\n",
        "actor_actress_winners = df[(df['category'].str.contains('ACTOR|ACTRESS', case=False, na=False)) & (df['winner'] == True)]\n",
        "\n",
        "top_actors_actresses = (\n",
        "    actor_actress_winners.groupby(['name', 'category'])\n",
        "    .size()\n",
        "    .reset_index(name='wins')\n",
        "    .sort_values(by='wins', ascending=False)\n",
        "    .head(10)\n",
        ")\n",
        "\n",
        "categories_per_person = actor_actress_winners.groupby('name')['category'].apply(lambda x: ', '.join(sorted(x))).reset_index()\n",
        "categories_per_person.rename(columns={'category': 'categories'}, inplace=True)\n",
        "\n",
        "top_actors_actresses = top_actors_actresses.merge(categories_per_person, on='name', how='left')\n",
        "\n",
        "top_actors_actresses['gender'] = top_actors_actresses['category'].apply(\n",
        "    lambda x: 'Actress' if 'ACTRESS' in x.upper() else 'Actor'\n",
        ")\n",
        "\n",
        "top_actors_actresses = top_actors_actresses.sort_values(by='wins', ascending=False)\n",
        "\n",
        "fig = px.bar(\n",
        "    top_actors_actresses,\n",
        "    x='wins',\n",
        "    y='name',\n",
        "    orientation='h',\n",
        "    title='Top 10 Actors and Actresses with the Most Oscar Wins',\n",
        "    labels={'wins': 'Number of Wins', 'name': 'Name', 'gender': 'Gender'},\n",
        "    hover_data={'wins': True, 'categories': True},\n",
        "    color='gender',\n",
        "    color_discrete_map={'Actress': 'pink', 'Actor': 'blue'}\n",
        ")\n",
        "\n",
        "fig.update_traces(textposition='outside')\n",
        "fig.update_layout(\n",
        "    xaxis_title=\"Number of Wins\",\n",
        "    yaxis_title=\"Name\",\n",
        "    yaxis=dict(autorange=\"reversed\"),\n",
        "    plot_bgcolor=\"white\",\n",
        "    legend_title=\"Gender\",\n",
        "    height=400\n",
        ")\n",
        "\n",
        "fig.show()\n"
      ],
      "metadata": {
        "colab": {
          "base_uri": "https://localhost:8080/",
          "height": 417
        },
        "id": "wox0vW2pRUC8",
        "outputId": "f66330a3-f641-4ac7-9cd6-016a917d720d"
      },
      "execution_count": 10,
      "outputs": [
        {
          "output_type": "display_data",
          "data": {
            "text/html": [
              "<html>\n",
              "<head><meta charset=\"utf-8\" /></head>\n",
              "<body>\n",
              "    <div>            <script src=\"https://cdnjs.cloudflare.com/ajax/libs/mathjax/2.7.5/MathJax.js?config=TeX-AMS-MML_SVG\"></script><script type=\"text/javascript\">if (window.MathJax && window.MathJax.Hub && window.MathJax.Hub.Config) {window.MathJax.Hub.Config({SVG: {font: \"STIX-Web\"}});}</script>                <script type=\"text/javascript\">window.PlotlyConfig = {MathJaxConfig: 'local'};</script>\n",
              "        <script charset=\"utf-8\" src=\"https://cdn.plot.ly/plotly-2.35.2.min.js\"></script>                <div id=\"e0712357-fcad-4d6c-a396-dabea1fcbd47\" class=\"plotly-graph-div\" style=\"height:400px; width:100%;\"></div>            <script type=\"text/javascript\">                                    window.PLOTLYENV=window.PLOTLYENV || {};                                    if (document.getElementById(\"e0712357-fcad-4d6c-a396-dabea1fcbd47\")) {                    Plotly.newPlot(                        \"e0712357-fcad-4d6c-a396-dabea1fcbd47\",                        [{\"alignmentgroup\":\"True\",\"customdata\":[[\"ACTRESS, ACTRESS, ACTRESS, ACTRESS IN A LEADING ROLE\"],[\"ACTRESS IN A LEADING ROLE, ACTRESS IN A LEADING ROLE, ACTRESS IN A LEADING ROLE\"],[\"ACTRESS IN A LEADING ROLE, ACTRESS IN A LEADING ROLE\"],[\"ACTRESS, ACTRESS\"],[\"ACTRESS IN A LEADING ROLE, ACTRESS IN A LEADING ROLE\"],[\"ACTRESS, ACTRESS\"],[\"ACTRESS, ACTRESS\"]],\"hovertemplate\":\"Gender=Actress\\u003cbr\\u003eNumber of Wins=%{x}\\u003cbr\\u003eName=%{y}\\u003cbr\\u003ecategories=%{customdata[0]}\\u003cextra\\u003e\\u003c\\u002fextra\\u003e\",\"legendgroup\":\"Actress\",\"marker\":{\"color\":\"pink\",\"pattern\":{\"shape\":\"\"}},\"name\":\"Actress\",\"offsetgroup\":\"Actress\",\"orientation\":\"h\",\"showlegend\":true,\"textposition\":\"outside\",\"x\":[3,3,2,2,2,2,2],\"xaxis\":\"x\",\"y\":[\"Katharine Hepburn\",\"Frances McDormand\",\"Hilary Swank\",\"Elizabeth Taylor\",\"Emma Stone\",\"Glenda Jackson\",\"Bette Davis\"],\"yaxis\":\"y\",\"type\":\"bar\"},{\"alignmentgroup\":\"True\",\"customdata\":[[\"ACTOR IN A SUPPORTING ROLE, ACTOR IN A SUPPORTING ROLE, ACTOR IN A SUPPORTING ROLE\"],[\"ACTOR IN A SUPPORTING ROLE, ACTOR IN A SUPPORTING ROLE\"],[\"ACTOR IN A SUPPORTING ROLE, ACTOR IN A SUPPORTING ROLE\"]],\"hovertemplate\":\"Gender=Actor\\u003cbr\\u003eNumber of Wins=%{x}\\u003cbr\\u003eName=%{y}\\u003cbr\\u003ecategories=%{customdata[0]}\\u003cextra\\u003e\\u003c\\u002fextra\\u003e\",\"legendgroup\":\"Actor\",\"marker\":{\"color\":\"blue\",\"pattern\":{\"shape\":\"\"}},\"name\":\"Actor\",\"offsetgroup\":\"Actor\",\"orientation\":\"h\",\"showlegend\":true,\"textposition\":\"outside\",\"x\":[3,2,2],\"xaxis\":\"x\",\"y\":[\"Walter Brennan\",\"Jason Robards\",\"Mahershala Ali\"],\"yaxis\":\"y\",\"type\":\"bar\"}],                        {\"template\":{\"data\":{\"histogram2dcontour\":[{\"type\":\"histogram2dcontour\",\"colorbar\":{\"outlinewidth\":0,\"ticks\":\"\"},\"colorscale\":[[0.0,\"#0d0887\"],[0.1111111111111111,\"#46039f\"],[0.2222222222222222,\"#7201a8\"],[0.3333333333333333,\"#9c179e\"],[0.4444444444444444,\"#bd3786\"],[0.5555555555555556,\"#d8576b\"],[0.6666666666666666,\"#ed7953\"],[0.7777777777777778,\"#fb9f3a\"],[0.8888888888888888,\"#fdca26\"],[1.0,\"#f0f921\"]]}],\"choropleth\":[{\"type\":\"choropleth\",\"colorbar\":{\"outlinewidth\":0,\"ticks\":\"\"}}],\"histogram2d\":[{\"type\":\"histogram2d\",\"colorbar\":{\"outlinewidth\":0,\"ticks\":\"\"},\"colorscale\":[[0.0,\"#0d0887\"],[0.1111111111111111,\"#46039f\"],[0.2222222222222222,\"#7201a8\"],[0.3333333333333333,\"#9c179e\"],[0.4444444444444444,\"#bd3786\"],[0.5555555555555556,\"#d8576b\"],[0.6666666666666666,\"#ed7953\"],[0.7777777777777778,\"#fb9f3a\"],[0.8888888888888888,\"#fdca26\"],[1.0,\"#f0f921\"]]}],\"heatmap\":[{\"type\":\"heatmap\",\"colorbar\":{\"outlinewidth\":0,\"ticks\":\"\"},\"colorscale\":[[0.0,\"#0d0887\"],[0.1111111111111111,\"#46039f\"],[0.2222222222222222,\"#7201a8\"],[0.3333333333333333,\"#9c179e\"],[0.4444444444444444,\"#bd3786\"],[0.5555555555555556,\"#d8576b\"],[0.6666666666666666,\"#ed7953\"],[0.7777777777777778,\"#fb9f3a\"],[0.8888888888888888,\"#fdca26\"],[1.0,\"#f0f921\"]]}],\"heatmapgl\":[{\"type\":\"heatmapgl\",\"colorbar\":{\"outlinewidth\":0,\"ticks\":\"\"},\"colorscale\":[[0.0,\"#0d0887\"],[0.1111111111111111,\"#46039f\"],[0.2222222222222222,\"#7201a8\"],[0.3333333333333333,\"#9c179e\"],[0.4444444444444444,\"#bd3786\"],[0.5555555555555556,\"#d8576b\"],[0.6666666666666666,\"#ed7953\"],[0.7777777777777778,\"#fb9f3a\"],[0.8888888888888888,\"#fdca26\"],[1.0,\"#f0f921\"]]}],\"contourcarpet\":[{\"type\":\"contourcarpet\",\"colorbar\":{\"outlinewidth\":0,\"ticks\":\"\"}}],\"contour\":[{\"type\":\"contour\",\"colorbar\":{\"outlinewidth\":0,\"ticks\":\"\"},\"colorscale\":[[0.0,\"#0d0887\"],[0.1111111111111111,\"#46039f\"],[0.2222222222222222,\"#7201a8\"],[0.3333333333333333,\"#9c179e\"],[0.4444444444444444,\"#bd3786\"],[0.5555555555555556,\"#d8576b\"],[0.6666666666666666,\"#ed7953\"],[0.7777777777777778,\"#fb9f3a\"],[0.8888888888888888,\"#fdca26\"],[1.0,\"#f0f921\"]]}],\"surface\":[{\"type\":\"surface\",\"colorbar\":{\"outlinewidth\":0,\"ticks\":\"\"},\"colorscale\":[[0.0,\"#0d0887\"],[0.1111111111111111,\"#46039f\"],[0.2222222222222222,\"#7201a8\"],[0.3333333333333333,\"#9c179e\"],[0.4444444444444444,\"#bd3786\"],[0.5555555555555556,\"#d8576b\"],[0.6666666666666666,\"#ed7953\"],[0.7777777777777778,\"#fb9f3a\"],[0.8888888888888888,\"#fdca26\"],[1.0,\"#f0f921\"]]}],\"mesh3d\":[{\"type\":\"mesh3d\",\"colorbar\":{\"outlinewidth\":0,\"ticks\":\"\"}}],\"scatter\":[{\"fillpattern\":{\"fillmode\":\"overlay\",\"size\":10,\"solidity\":0.2},\"type\":\"scatter\"}],\"parcoords\":[{\"type\":\"parcoords\",\"line\":{\"colorbar\":{\"outlinewidth\":0,\"ticks\":\"\"}}}],\"scatterpolargl\":[{\"type\":\"scatterpolargl\",\"marker\":{\"colorbar\":{\"outlinewidth\":0,\"ticks\":\"\"}}}],\"bar\":[{\"error_x\":{\"color\":\"#2a3f5f\"},\"error_y\":{\"color\":\"#2a3f5f\"},\"marker\":{\"line\":{\"color\":\"#E5ECF6\",\"width\":0.5},\"pattern\":{\"fillmode\":\"overlay\",\"size\":10,\"solidity\":0.2}},\"type\":\"bar\"}],\"scattergeo\":[{\"type\":\"scattergeo\",\"marker\":{\"colorbar\":{\"outlinewidth\":0,\"ticks\":\"\"}}}],\"scatterpolar\":[{\"type\":\"scatterpolar\",\"marker\":{\"colorbar\":{\"outlinewidth\":0,\"ticks\":\"\"}}}],\"histogram\":[{\"marker\":{\"pattern\":{\"fillmode\":\"overlay\",\"size\":10,\"solidity\":0.2}},\"type\":\"histogram\"}],\"scattergl\":[{\"type\":\"scattergl\",\"marker\":{\"colorbar\":{\"outlinewidth\":0,\"ticks\":\"\"}}}],\"scatter3d\":[{\"type\":\"scatter3d\",\"line\":{\"colorbar\":{\"outlinewidth\":0,\"ticks\":\"\"}},\"marker\":{\"colorbar\":{\"outlinewidth\":0,\"ticks\":\"\"}}}],\"scattermapbox\":[{\"type\":\"scattermapbox\",\"marker\":{\"colorbar\":{\"outlinewidth\":0,\"ticks\":\"\"}}}],\"scatterternary\":[{\"type\":\"scatterternary\",\"marker\":{\"colorbar\":{\"outlinewidth\":0,\"ticks\":\"\"}}}],\"scattercarpet\":[{\"type\":\"scattercarpet\",\"marker\":{\"colorbar\":{\"outlinewidth\":0,\"ticks\":\"\"}}}],\"carpet\":[{\"aaxis\":{\"endlinecolor\":\"#2a3f5f\",\"gridcolor\":\"white\",\"linecolor\":\"white\",\"minorgridcolor\":\"white\",\"startlinecolor\":\"#2a3f5f\"},\"baxis\":{\"endlinecolor\":\"#2a3f5f\",\"gridcolor\":\"white\",\"linecolor\":\"white\",\"minorgridcolor\":\"white\",\"startlinecolor\":\"#2a3f5f\"},\"type\":\"carpet\"}],\"table\":[{\"cells\":{\"fill\":{\"color\":\"#EBF0F8\"},\"line\":{\"color\":\"white\"}},\"header\":{\"fill\":{\"color\":\"#C8D4E3\"},\"line\":{\"color\":\"white\"}},\"type\":\"table\"}],\"barpolar\":[{\"marker\":{\"line\":{\"color\":\"#E5ECF6\",\"width\":0.5},\"pattern\":{\"fillmode\":\"overlay\",\"size\":10,\"solidity\":0.2}},\"type\":\"barpolar\"}],\"pie\":[{\"automargin\":true,\"type\":\"pie\"}]},\"layout\":{\"autotypenumbers\":\"strict\",\"colorway\":[\"#636efa\",\"#EF553B\",\"#00cc96\",\"#ab63fa\",\"#FFA15A\",\"#19d3f3\",\"#FF6692\",\"#B6E880\",\"#FF97FF\",\"#FECB52\"],\"font\":{\"color\":\"#2a3f5f\"},\"hovermode\":\"closest\",\"hoverlabel\":{\"align\":\"left\"},\"paper_bgcolor\":\"white\",\"plot_bgcolor\":\"#E5ECF6\",\"polar\":{\"bgcolor\":\"#E5ECF6\",\"angularaxis\":{\"gridcolor\":\"white\",\"linecolor\":\"white\",\"ticks\":\"\"},\"radialaxis\":{\"gridcolor\":\"white\",\"linecolor\":\"white\",\"ticks\":\"\"}},\"ternary\":{\"bgcolor\":\"#E5ECF6\",\"aaxis\":{\"gridcolor\":\"white\",\"linecolor\":\"white\",\"ticks\":\"\"},\"baxis\":{\"gridcolor\":\"white\",\"linecolor\":\"white\",\"ticks\":\"\"},\"caxis\":{\"gridcolor\":\"white\",\"linecolor\":\"white\",\"ticks\":\"\"}},\"coloraxis\":{\"colorbar\":{\"outlinewidth\":0,\"ticks\":\"\"}},\"colorscale\":{\"sequential\":[[0.0,\"#0d0887\"],[0.1111111111111111,\"#46039f\"],[0.2222222222222222,\"#7201a8\"],[0.3333333333333333,\"#9c179e\"],[0.4444444444444444,\"#bd3786\"],[0.5555555555555556,\"#d8576b\"],[0.6666666666666666,\"#ed7953\"],[0.7777777777777778,\"#fb9f3a\"],[0.8888888888888888,\"#fdca26\"],[1.0,\"#f0f921\"]],\"sequentialminus\":[[0.0,\"#0d0887\"],[0.1111111111111111,\"#46039f\"],[0.2222222222222222,\"#7201a8\"],[0.3333333333333333,\"#9c179e\"],[0.4444444444444444,\"#bd3786\"],[0.5555555555555556,\"#d8576b\"],[0.6666666666666666,\"#ed7953\"],[0.7777777777777778,\"#fb9f3a\"],[0.8888888888888888,\"#fdca26\"],[1.0,\"#f0f921\"]],\"diverging\":[[0,\"#8e0152\"],[0.1,\"#c51b7d\"],[0.2,\"#de77ae\"],[0.3,\"#f1b6da\"],[0.4,\"#fde0ef\"],[0.5,\"#f7f7f7\"],[0.6,\"#e6f5d0\"],[0.7,\"#b8e186\"],[0.8,\"#7fbc41\"],[0.9,\"#4d9221\"],[1,\"#276419\"]]},\"xaxis\":{\"gridcolor\":\"white\",\"linecolor\":\"white\",\"ticks\":\"\",\"title\":{\"standoff\":15},\"zerolinecolor\":\"white\",\"automargin\":true,\"zerolinewidth\":2},\"yaxis\":{\"gridcolor\":\"white\",\"linecolor\":\"white\",\"ticks\":\"\",\"title\":{\"standoff\":15},\"zerolinecolor\":\"white\",\"automargin\":true,\"zerolinewidth\":2},\"scene\":{\"xaxis\":{\"backgroundcolor\":\"#E5ECF6\",\"gridcolor\":\"white\",\"linecolor\":\"white\",\"showbackground\":true,\"ticks\":\"\",\"zerolinecolor\":\"white\",\"gridwidth\":2},\"yaxis\":{\"backgroundcolor\":\"#E5ECF6\",\"gridcolor\":\"white\",\"linecolor\":\"white\",\"showbackground\":true,\"ticks\":\"\",\"zerolinecolor\":\"white\",\"gridwidth\":2},\"zaxis\":{\"backgroundcolor\":\"#E5ECF6\",\"gridcolor\":\"white\",\"linecolor\":\"white\",\"showbackground\":true,\"ticks\":\"\",\"zerolinecolor\":\"white\",\"gridwidth\":2}},\"shapedefaults\":{\"line\":{\"color\":\"#2a3f5f\"}},\"annotationdefaults\":{\"arrowcolor\":\"#2a3f5f\",\"arrowhead\":0,\"arrowwidth\":1},\"geo\":{\"bgcolor\":\"white\",\"landcolor\":\"#E5ECF6\",\"subunitcolor\":\"white\",\"showland\":true,\"showlakes\":true,\"lakecolor\":\"white\"},\"title\":{\"x\":0.05},\"mapbox\":{\"style\":\"light\"}}},\"xaxis\":{\"anchor\":\"y\",\"domain\":[0.0,1.0],\"title\":{\"text\":\"Number of Wins\"}},\"yaxis\":{\"anchor\":\"x\",\"domain\":[0.0,1.0],\"title\":{\"text\":\"Name\"},\"autorange\":\"reversed\"},\"legend\":{\"title\":{\"text\":\"Gender\"},\"tracegroupgap\":0},\"title\":{\"text\":\"Top 10 Actors and Actresses with the Most Oscar Wins\"},\"barmode\":\"relative\",\"plot_bgcolor\":\"white\",\"height\":400},                        {\"responsive\": true}                    ).then(function(){\n",
              "                            \n",
              "var gd = document.getElementById('e0712357-fcad-4d6c-a396-dabea1fcbd47');\n",
              "var x = new MutationObserver(function (mutations, observer) {{\n",
              "        var display = window.getComputedStyle(gd).display;\n",
              "        if (!display || display === 'none') {{\n",
              "            console.log([gd, 'removed!']);\n",
              "            Plotly.purge(gd);\n",
              "            observer.disconnect();\n",
              "        }}\n",
              "}});\n",
              "\n",
              "// Listen for the removal of the full notebook cells\n",
              "var notebookContainer = gd.closest('#notebook-container');\n",
              "if (notebookContainer) {{\n",
              "    x.observe(notebookContainer, {childList: true});\n",
              "}}\n",
              "\n",
              "// Listen for the clearing of the current output cell\n",
              "var outputEl = gd.closest('.output');\n",
              "if (outputEl) {{\n",
              "    x.observe(outputEl, {childList: true});\n",
              "}}\n",
              "\n",
              "                        })                };                            </script>        </div>\n",
              "</body>\n",
              "</html>"
            ]
          },
          "metadata": {}
        }
      ]
    },
    {
      "cell_type": "markdown",
      "source": [
        "# **Number of nominees per category**"
      ],
      "metadata": {
        "id": "y4OWjvYThxNu"
      }
    },
    {
      "cell_type": "code",
      "source": [
        "\n",
        "nominee_count_by_category = (\n",
        "    df.groupby('category')['name']\n",
        "    .count()\n",
        "    .sort_values(ascending=False)\n",
        "    .reset_index()\n",
        "    .rename(columns={'name': 'nominee_count'})\n",
        ")\n",
        "\n",
        "fig = px.bar(\n",
        "    nominee_count_by_category,\n",
        "    x='nominee_count',\n",
        "    y='category',\n",
        "    orientation='h',\n",
        "    title='Number of Nominees per Category',\n",
        "    labels={'nominee_count': 'Number of Nominees', 'category': 'Category'},\n",
        "    color='nominee_count',\n",
        "    color_continuous_scale='Viridis',\n",
        "    text='nominee_count'\n",
        ")\n",
        "\n",
        "fig.update_traces(\n",
        "    textposition='outside',\n",
        "    marker_line_width=0.5,\n",
        ")\n",
        "\n",
        "fig.update_layout(\n",
        "    height=1400,\n",
        "    xaxis_title=\"Number of Nominees\",\n",
        "    yaxis_title=\"Category\",\n",
        "    yaxis=dict(\n",
        "        tickmode=\"linear\",\n",
        "        automargin=True,\n",
        "        tickfont=dict(size=10)\n",
        "    ),\n",
        "    plot_bgcolor=\"white\",\n",
        "    coloraxis_colorbar=dict(title=\"Nominees\")\n",
        ")\n",
        "\n",
        "fig.show()\n"
      ],
      "metadata": {
        "colab": {
          "base_uri": "https://localhost:8080/",
          "height": 1000
        },
        "id": "ykUYfeDaaroZ",
        "outputId": "27a2b250-7dcc-4ab8-86c9-3ef3eff3c5ac"
      },
      "execution_count": 13,
      "outputs": [
        {
          "output_type": "display_data",
          "data": {
            "text/html": [
              "<html>\n",
              "<head><meta charset=\"utf-8\" /></head>\n",
              "<body>\n",
              "    <div>            <script src=\"https://cdnjs.cloudflare.com/ajax/libs/mathjax/2.7.5/MathJax.js?config=TeX-AMS-MML_SVG\"></script><script type=\"text/javascript\">if (window.MathJax && window.MathJax.Hub && window.MathJax.Hub.Config) {window.MathJax.Hub.Config({SVG: {font: \"STIX-Web\"}});}</script>                <script type=\"text/javascript\">window.PlotlyConfig = {MathJaxConfig: 'local'};</script>\n",
              "        <script charset=\"utf-8\" src=\"https://cdn.plot.ly/plotly-2.35.2.min.js\"></script>                <div id=\"d9d03cab-fceb-44ba-8749-60b860c9c2e9\" class=\"plotly-graph-div\" style=\"height:1400px; width:100%;\"></div>            <script type=\"text/javascript\">                                    window.PLOTLYENV=window.PLOTLYENV || {};                                    if (document.getElementById(\"d9d03cab-fceb-44ba-8749-60b860c9c2e9\")) {                    Plotly.newPlot(                        \"d9d03cab-fceb-44ba-8749-60b860c9c2e9\",                        [{\"alignmentgroup\":\"True\",\"hovertemplate\":\"Number of Nominees=%{marker.color}\\u003cbr\\u003eCategory=%{y}\\u003cextra\\u003e\\u003c\\u002fextra\\u003e\",\"legendgroup\":\"\",\"marker\":{\"color\":[469,450,440,440,378,371,345,338,315,307,295,270,245,240,240,236,235,232,226,215,215,195,169,161,160,155,148,138,135,133,127,120,112,110,104,102,99,95,93,90,90,87,86,85,81,77,77,68,65,64,60,60,56,55,52,50,47,46,45,41,39,35,35,30,30,25,25,25,25,21,20,20,20,20,17,16,13,12,11,10,10,10,10,10,10,10,10,9,9,9,8,8,8,6,6,6,5,5,5,5,4,3,3,3,3,3,3,3,3,2,2,1,1,1,1],\"coloraxis\":\"coloraxis\",\"pattern\":{\"shape\":\"\"},\"line\":{\"width\":0.5}},\"name\":\"\",\"offsetgroup\":\"\",\"orientation\":\"h\",\"showlegend\":false,\"text\":[469.0,450.0,440.0,440.0,378.0,371.0,345.0,338.0,315.0,307.0,295.0,270.0,245.0,240.0,240.0,236.0,235.0,232.0,226.0,215.0,215.0,195.0,169.0,161.0,160.0,155.0,148.0,138.0,135.0,133.0,127.0,120.0,112.0,110.0,104.0,102.0,99.0,95.0,93.0,90.0,90.0,87.0,86.0,85.0,81.0,77.0,77.0,68.0,65.0,64.0,60.0,60.0,56.0,55.0,52.0,50.0,47.0,46.0,45.0,41.0,39.0,35.0,35.0,30.0,30.0,25.0,25.0,25.0,25.0,21.0,20.0,20.0,20.0,20.0,17.0,16.0,13.0,12.0,11.0,10.0,10.0,10.0,10.0,10.0,10.0,10.0,10.0,9.0,9.0,9.0,8.0,8.0,8.0,6.0,6.0,6.0,5.0,5.0,5.0,5.0,4.0,3.0,3.0,3.0,3.0,3.0,3.0,3.0,3.0,2.0,2.0,1.0,1.0,1.0,1.0],\"textposition\":\"outside\",\"x\":[469,450,440,440,378,371,345,338,315,307,295,270,245,240,240,236,235,232,226,215,215,195,169,161,160,155,148,138,135,133,127,120,112,110,104,102,99,95,93,90,90,87,86,85,81,77,77,68,65,64,60,60,56,55,52,50,47,46,45,41,39,35,35,30,30,25,25,25,25,21,20,20,20,20,17,16,13,12,11,10,10,10,10,10,10,10,10,9,9,9,8,8,8,6,6,6,5,5,5,5,4,3,3,3,3,3,3,3,3,2,2,1,1,1,1],\"xaxis\":\"x\",\"y\":[\"DIRECTING\",\"FILM EDITING\",\"ACTOR IN A SUPPORTING ROLE\",\"ACTRESS IN A SUPPORTING ROLE\",\"DOCUMENTARY (Short Subject)\",\"BEST PICTURE\",\"DOCUMENTARY (Feature)\",\"CINEMATOGRAPHY\",\"FOREIGN LANGUAGE FILM\",\"ART DIRECTION\",\"COSTUME DESIGN\",\"MUSIC (Original Score)\",\"SOUND\",\"ACTOR IN A LEADING ROLE\",\"ACTRESS IN A LEADING ROLE\",\"ACTRESS\",\"MUSIC (Original Song)\",\"ACTOR\",\"SHORT FILM (Live Action)\",\"SHORT FILM (Animated)\",\"MUSIC (Song)\",\"SOUND RECORDING\",\"SHORT SUBJECT (Cartoon)\",\"CINEMATOGRAPHY (Black-and-White)\",\"WRITING (Original Screenplay)\",\"VISUAL EFFECTS\",\"MUSIC (Music Score of a Dramatic or Comedy Picture)\",\"ART DIRECTION (Black-and-White)\",\"CINEMATOGRAPHY (Color)\",\"HONORARY AWARD\",\"MUSIC (Scoring of a Musical Picture)\",\"WRITING (Screenplay Written Directly for the Screen)\",\"ART DIRECTION (Color)\",\"WRITING (Adapted Screenplay)\",\"WRITING (Screenplay)\",\"OUTSTANDING PRODUCTION\",\"ANIMATED FEATURE FILM\",\"WRITING (Screenplay--based on material from another medium)\",\"SPECIAL EFFECTS\",\"BEST MOTION PICTURE\",\"SHORT SUBJECT (One-reel)\",\"MAKEUP\",\"SOUND EDITING\",\"SOUND MIXING\",\"SHORT SUBJECT (Two-reel)\",\"COSTUME DESIGN (Black-and-White)\",\"COSTUME DESIGN (Color)\",\"SHORT SUBJECT (Live Action)\",\"WRITING (Screenplay Based on Material from Another Medium)\",\"MUSIC (Scoring)\",\"WRITING (Story and Screenplay--written directly for the screen)\",\"PRODUCTION DESIGN\",\"SPECIAL AWARD\",\"WRITING (Screenplay Based on Material Previously Produced or Published)\",\"WRITING (Original Story)\",\"WRITING (Motion Picture Story)\",\"SOUND EFFECTS EDITING\",\"MAKEUP AND HAIRSTYLING\",\"IRVING G. THALBERG MEMORIAL AWARD\",\"MUSIC (Original Dramatic Score)\",\"JEAN HERSHOLT HUMANITARIAN AWARD\",\"ASSISTANT DIRECTOR\",\"WRITING (Story and Screenplay)\",\"OUTSTANDING MOTION PICTURE\",\"MUSIC (Scoring of Music--adaptation or treatment)\",\"MUSIC (Song--Original for the Picture)\",\"WRITING (Original Motion Picture Story)\",\"DOCUMENTARY\",\"INTERNATIONAL FEATURE FILM\",\"DANCE DIRECTION\",\"MUSIC (Original Musical or Comedy Score)\",\"WRITING (Story and Screenplay--based on factual material or material not previously published or produced)\",\"MUSIC (Music Score--substantially original)\",\"MUSIC (Music Score of a Dramatic Picture)\",\"WRITING (Adaptation)\",\"SPECIAL VISUAL EFFECTS\",\"SHORT SUBJECT (Comedy)\",\"SHORT SUBJECT (Novelty)\",\"WRITING\",\"MUSIC (Original Music Score)\",\"WRITING (Screenplay Adapted from Other Material)\",\"WRITING (Screenplay Written Directly for the Screen--based on factual material or on story material not previously published or produced)\",\"DOCUMENTARY SHORT FILM\",\"MUSIC (Score of a Musical Picture--original or adaptation)\",\"DOCUMENTARY FEATURE FILM\",\"MUSIC (Original Score--for a motion picture [not a musical])\",\"SOUND EFFECTS\",\"SPECIAL ACHIEVEMENT AWARD (Visual Effects)\",\"SHORT SUBJECT (Animated)\",\"MUSIC (Scoring: Original Song Score and Adaptation -or- Scoring: Adaptation)\",\"OUTSTANDING PICTURE\",\"MUSIC (Scoring: Adaptation and Original Song Score)\",\"MUSIC (Original Song Score)\",\"MUSIC (Original Song Score and Its Adaptation -or- Adaptation Score)\",\"MUSIC (Original Song Score and Its Adaptation or Adaptation Score)\",\"SHORT SUBJECT (Color)\",\"WRITING (Screenplay--Original)\",\"HONORARY FOREIGN LANGUAGE FILM AWARD\",\"WRITING (Story and Screenplay--based on material not previously published or produced)\",\"WRITING (Screenplay--Adapted)\",\"SPECIAL ACHIEVEMENT AWARD (Sound Effects Editing)\",\"ENGINEERING EFFECTS\",\"DIRECTING (Dramatic Picture)\",\"UNIQUE AND ARTISTIC PICTURE\",\"SPECIAL ACHIEVEMENT AWARD\",\"MUSIC (Original Song Score or Adaptation Score)\",\"MUSIC (Adaptation Score)\",\"SHORT FILM (Dramatic Live Action)\",\"WRITING (Title Writing)\",\"DIRECTING (Comedy Picture)\",\"SPECIAL FOREIGN LANGUAGE FILM AWARD\",\"AWARD OF COMMENDATION\",\"SPECIAL ACHIEVEMENT AWARD (Sound Effects)\",\"SPECIAL ACHIEVEMENT AWARD (Sound Editing)\",\"GORDON E. SAWYER AWARD\"],\"yaxis\":\"y\",\"type\":\"bar\"}],                        {\"template\":{\"data\":{\"histogram2dcontour\":[{\"type\":\"histogram2dcontour\",\"colorbar\":{\"outlinewidth\":0,\"ticks\":\"\"},\"colorscale\":[[0.0,\"#0d0887\"],[0.1111111111111111,\"#46039f\"],[0.2222222222222222,\"#7201a8\"],[0.3333333333333333,\"#9c179e\"],[0.4444444444444444,\"#bd3786\"],[0.5555555555555556,\"#d8576b\"],[0.6666666666666666,\"#ed7953\"],[0.7777777777777778,\"#fb9f3a\"],[0.8888888888888888,\"#fdca26\"],[1.0,\"#f0f921\"]]}],\"choropleth\":[{\"type\":\"choropleth\",\"colorbar\":{\"outlinewidth\":0,\"ticks\":\"\"}}],\"histogram2d\":[{\"type\":\"histogram2d\",\"colorbar\":{\"outlinewidth\":0,\"ticks\":\"\"},\"colorscale\":[[0.0,\"#0d0887\"],[0.1111111111111111,\"#46039f\"],[0.2222222222222222,\"#7201a8\"],[0.3333333333333333,\"#9c179e\"],[0.4444444444444444,\"#bd3786\"],[0.5555555555555556,\"#d8576b\"],[0.6666666666666666,\"#ed7953\"],[0.7777777777777778,\"#fb9f3a\"],[0.8888888888888888,\"#fdca26\"],[1.0,\"#f0f921\"]]}],\"heatmap\":[{\"type\":\"heatmap\",\"colorbar\":{\"outlinewidth\":0,\"ticks\":\"\"},\"colorscale\":[[0.0,\"#0d0887\"],[0.1111111111111111,\"#46039f\"],[0.2222222222222222,\"#7201a8\"],[0.3333333333333333,\"#9c179e\"],[0.4444444444444444,\"#bd3786\"],[0.5555555555555556,\"#d8576b\"],[0.6666666666666666,\"#ed7953\"],[0.7777777777777778,\"#fb9f3a\"],[0.8888888888888888,\"#fdca26\"],[1.0,\"#f0f921\"]]}],\"heatmapgl\":[{\"type\":\"heatmapgl\",\"colorbar\":{\"outlinewidth\":0,\"ticks\":\"\"},\"colorscale\":[[0.0,\"#0d0887\"],[0.1111111111111111,\"#46039f\"],[0.2222222222222222,\"#7201a8\"],[0.3333333333333333,\"#9c179e\"],[0.4444444444444444,\"#bd3786\"],[0.5555555555555556,\"#d8576b\"],[0.6666666666666666,\"#ed7953\"],[0.7777777777777778,\"#fb9f3a\"],[0.8888888888888888,\"#fdca26\"],[1.0,\"#f0f921\"]]}],\"contourcarpet\":[{\"type\":\"contourcarpet\",\"colorbar\":{\"outlinewidth\":0,\"ticks\":\"\"}}],\"contour\":[{\"type\":\"contour\",\"colorbar\":{\"outlinewidth\":0,\"ticks\":\"\"},\"colorscale\":[[0.0,\"#0d0887\"],[0.1111111111111111,\"#46039f\"],[0.2222222222222222,\"#7201a8\"],[0.3333333333333333,\"#9c179e\"],[0.4444444444444444,\"#bd3786\"],[0.5555555555555556,\"#d8576b\"],[0.6666666666666666,\"#ed7953\"],[0.7777777777777778,\"#fb9f3a\"],[0.8888888888888888,\"#fdca26\"],[1.0,\"#f0f921\"]]}],\"surface\":[{\"type\":\"surface\",\"colorbar\":{\"outlinewidth\":0,\"ticks\":\"\"},\"colorscale\":[[0.0,\"#0d0887\"],[0.1111111111111111,\"#46039f\"],[0.2222222222222222,\"#7201a8\"],[0.3333333333333333,\"#9c179e\"],[0.4444444444444444,\"#bd3786\"],[0.5555555555555556,\"#d8576b\"],[0.6666666666666666,\"#ed7953\"],[0.7777777777777778,\"#fb9f3a\"],[0.8888888888888888,\"#fdca26\"],[1.0,\"#f0f921\"]]}],\"mesh3d\":[{\"type\":\"mesh3d\",\"colorbar\":{\"outlinewidth\":0,\"ticks\":\"\"}}],\"scatter\":[{\"fillpattern\":{\"fillmode\":\"overlay\",\"size\":10,\"solidity\":0.2},\"type\":\"scatter\"}],\"parcoords\":[{\"type\":\"parcoords\",\"line\":{\"colorbar\":{\"outlinewidth\":0,\"ticks\":\"\"}}}],\"scatterpolargl\":[{\"type\":\"scatterpolargl\",\"marker\":{\"colorbar\":{\"outlinewidth\":0,\"ticks\":\"\"}}}],\"bar\":[{\"error_x\":{\"color\":\"#2a3f5f\"},\"error_y\":{\"color\":\"#2a3f5f\"},\"marker\":{\"line\":{\"color\":\"#E5ECF6\",\"width\":0.5},\"pattern\":{\"fillmode\":\"overlay\",\"size\":10,\"solidity\":0.2}},\"type\":\"bar\"}],\"scattergeo\":[{\"type\":\"scattergeo\",\"marker\":{\"colorbar\":{\"outlinewidth\":0,\"ticks\":\"\"}}}],\"scatterpolar\":[{\"type\":\"scatterpolar\",\"marker\":{\"colorbar\":{\"outlinewidth\":0,\"ticks\":\"\"}}}],\"histogram\":[{\"marker\":{\"pattern\":{\"fillmode\":\"overlay\",\"size\":10,\"solidity\":0.2}},\"type\":\"histogram\"}],\"scattergl\":[{\"type\":\"scattergl\",\"marker\":{\"colorbar\":{\"outlinewidth\":0,\"ticks\":\"\"}}}],\"scatter3d\":[{\"type\":\"scatter3d\",\"line\":{\"colorbar\":{\"outlinewidth\":0,\"ticks\":\"\"}},\"marker\":{\"colorbar\":{\"outlinewidth\":0,\"ticks\":\"\"}}}],\"scattermapbox\":[{\"type\":\"scattermapbox\",\"marker\":{\"colorbar\":{\"outlinewidth\":0,\"ticks\":\"\"}}}],\"scatterternary\":[{\"type\":\"scatterternary\",\"marker\":{\"colorbar\":{\"outlinewidth\":0,\"ticks\":\"\"}}}],\"scattercarpet\":[{\"type\":\"scattercarpet\",\"marker\":{\"colorbar\":{\"outlinewidth\":0,\"ticks\":\"\"}}}],\"carpet\":[{\"aaxis\":{\"endlinecolor\":\"#2a3f5f\",\"gridcolor\":\"white\",\"linecolor\":\"white\",\"minorgridcolor\":\"white\",\"startlinecolor\":\"#2a3f5f\"},\"baxis\":{\"endlinecolor\":\"#2a3f5f\",\"gridcolor\":\"white\",\"linecolor\":\"white\",\"minorgridcolor\":\"white\",\"startlinecolor\":\"#2a3f5f\"},\"type\":\"carpet\"}],\"table\":[{\"cells\":{\"fill\":{\"color\":\"#EBF0F8\"},\"line\":{\"color\":\"white\"}},\"header\":{\"fill\":{\"color\":\"#C8D4E3\"},\"line\":{\"color\":\"white\"}},\"type\":\"table\"}],\"barpolar\":[{\"marker\":{\"line\":{\"color\":\"#E5ECF6\",\"width\":0.5},\"pattern\":{\"fillmode\":\"overlay\",\"size\":10,\"solidity\":0.2}},\"type\":\"barpolar\"}],\"pie\":[{\"automargin\":true,\"type\":\"pie\"}]},\"layout\":{\"autotypenumbers\":\"strict\",\"colorway\":[\"#636efa\",\"#EF553B\",\"#00cc96\",\"#ab63fa\",\"#FFA15A\",\"#19d3f3\",\"#FF6692\",\"#B6E880\",\"#FF97FF\",\"#FECB52\"],\"font\":{\"color\":\"#2a3f5f\"},\"hovermode\":\"closest\",\"hoverlabel\":{\"align\":\"left\"},\"paper_bgcolor\":\"white\",\"plot_bgcolor\":\"#E5ECF6\",\"polar\":{\"bgcolor\":\"#E5ECF6\",\"angularaxis\":{\"gridcolor\":\"white\",\"linecolor\":\"white\",\"ticks\":\"\"},\"radialaxis\":{\"gridcolor\":\"white\",\"linecolor\":\"white\",\"ticks\":\"\"}},\"ternary\":{\"bgcolor\":\"#E5ECF6\",\"aaxis\":{\"gridcolor\":\"white\",\"linecolor\":\"white\",\"ticks\":\"\"},\"baxis\":{\"gridcolor\":\"white\",\"linecolor\":\"white\",\"ticks\":\"\"},\"caxis\":{\"gridcolor\":\"white\",\"linecolor\":\"white\",\"ticks\":\"\"}},\"coloraxis\":{\"colorbar\":{\"outlinewidth\":0,\"ticks\":\"\"}},\"colorscale\":{\"sequential\":[[0.0,\"#0d0887\"],[0.1111111111111111,\"#46039f\"],[0.2222222222222222,\"#7201a8\"],[0.3333333333333333,\"#9c179e\"],[0.4444444444444444,\"#bd3786\"],[0.5555555555555556,\"#d8576b\"],[0.6666666666666666,\"#ed7953\"],[0.7777777777777778,\"#fb9f3a\"],[0.8888888888888888,\"#fdca26\"],[1.0,\"#f0f921\"]],\"sequentialminus\":[[0.0,\"#0d0887\"],[0.1111111111111111,\"#46039f\"],[0.2222222222222222,\"#7201a8\"],[0.3333333333333333,\"#9c179e\"],[0.4444444444444444,\"#bd3786\"],[0.5555555555555556,\"#d8576b\"],[0.6666666666666666,\"#ed7953\"],[0.7777777777777778,\"#fb9f3a\"],[0.8888888888888888,\"#fdca26\"],[1.0,\"#f0f921\"]],\"diverging\":[[0,\"#8e0152\"],[0.1,\"#c51b7d\"],[0.2,\"#de77ae\"],[0.3,\"#f1b6da\"],[0.4,\"#fde0ef\"],[0.5,\"#f7f7f7\"],[0.6,\"#e6f5d0\"],[0.7,\"#b8e186\"],[0.8,\"#7fbc41\"],[0.9,\"#4d9221\"],[1,\"#276419\"]]},\"xaxis\":{\"gridcolor\":\"white\",\"linecolor\":\"white\",\"ticks\":\"\",\"title\":{\"standoff\":15},\"zerolinecolor\":\"white\",\"automargin\":true,\"zerolinewidth\":2},\"yaxis\":{\"gridcolor\":\"white\",\"linecolor\":\"white\",\"ticks\":\"\",\"title\":{\"standoff\":15},\"zerolinecolor\":\"white\",\"automargin\":true,\"zerolinewidth\":2},\"scene\":{\"xaxis\":{\"backgroundcolor\":\"#E5ECF6\",\"gridcolor\":\"white\",\"linecolor\":\"white\",\"showbackground\":true,\"ticks\":\"\",\"zerolinecolor\":\"white\",\"gridwidth\":2},\"yaxis\":{\"backgroundcolor\":\"#E5ECF6\",\"gridcolor\":\"white\",\"linecolor\":\"white\",\"showbackground\":true,\"ticks\":\"\",\"zerolinecolor\":\"white\",\"gridwidth\":2},\"zaxis\":{\"backgroundcolor\":\"#E5ECF6\",\"gridcolor\":\"white\",\"linecolor\":\"white\",\"showbackground\":true,\"ticks\":\"\",\"zerolinecolor\":\"white\",\"gridwidth\":2}},\"shapedefaults\":{\"line\":{\"color\":\"#2a3f5f\"}},\"annotationdefaults\":{\"arrowcolor\":\"#2a3f5f\",\"arrowhead\":0,\"arrowwidth\":1},\"geo\":{\"bgcolor\":\"white\",\"landcolor\":\"#E5ECF6\",\"subunitcolor\":\"white\",\"showland\":true,\"showlakes\":true,\"lakecolor\":\"white\"},\"title\":{\"x\":0.05},\"mapbox\":{\"style\":\"light\"}}},\"xaxis\":{\"anchor\":\"y\",\"domain\":[0.0,1.0],\"title\":{\"text\":\"Number of Nominees\"}},\"yaxis\":{\"anchor\":\"x\",\"domain\":[0.0,1.0],\"title\":{\"text\":\"Category\"},\"tickfont\":{\"size\":10},\"tickmode\":\"linear\",\"automargin\":true},\"coloraxis\":{\"colorbar\":{\"title\":{\"text\":\"Nominees\"}},\"colorscale\":[[0.0,\"#440154\"],[0.1111111111111111,\"#482878\"],[0.2222222222222222,\"#3e4989\"],[0.3333333333333333,\"#31688e\"],[0.4444444444444444,\"#26828e\"],[0.5555555555555556,\"#1f9e89\"],[0.6666666666666666,\"#35b779\"],[0.7777777777777778,\"#6ece58\"],[0.8888888888888888,\"#b5de2b\"],[1.0,\"#fde725\"]]},\"legend\":{\"tracegroupgap\":0},\"title\":{\"text\":\"Number of Nominees per Category\"},\"barmode\":\"relative\",\"height\":1400,\"plot_bgcolor\":\"white\"},                        {\"responsive\": true}                    ).then(function(){\n",
              "                            \n",
              "var gd = document.getElementById('d9d03cab-fceb-44ba-8749-60b860c9c2e9');\n",
              "var x = new MutationObserver(function (mutations, observer) {{\n",
              "        var display = window.getComputedStyle(gd).display;\n",
              "        if (!display || display === 'none') {{\n",
              "            console.log([gd, 'removed!']);\n",
              "            Plotly.purge(gd);\n",
              "            observer.disconnect();\n",
              "        }}\n",
              "}});\n",
              "\n",
              "// Listen for the removal of the full notebook cells\n",
              "var notebookContainer = gd.closest('#notebook-container');\n",
              "if (notebookContainer) {{\n",
              "    x.observe(notebookContainer, {childList: true});\n",
              "}}\n",
              "\n",
              "// Listen for the clearing of the current output cell\n",
              "var outputEl = gd.closest('.output');\n",
              "if (outputEl) {{\n",
              "    x.observe(outputEl, {childList: true});\n",
              "}}\n",
              "\n",
              "                        })                };                            </script>        </div>\n",
              "</body>\n",
              "</html>"
            ]
          },
          "metadata": {}
        }
      ]
    },
    {
      "cell_type": "markdown",
      "source": [
        "# **Nominees and Winners Percentage per Category**"
      ],
      "metadata": {
        "id": "Efog7BZci9xw"
      }
    },
    {
      "cell_type": "code",
      "source": [
        "\n",
        "category_counts = (\n",
        "    df.groupby(['category', 'winner'])\n",
        "    .size()\n",
        "    .unstack(fill_value=0)\n",
        "    .reset_index()\n",
        "    .rename(columns={True: 'winners', False: 'nominees'})\n",
        ")\n",
        "\n",
        "category_counts['winner_percentage'] = (category_counts['winners'] / category_counts['nominees']) * 100\n",
        "\n",
        "fig = go.Figure()\n",
        "\n",
        "fig.add_trace(go.Bar(\n",
        "    x=category_counts['nominees'],\n",
        "    y=category_counts['category'],\n",
        "    orientation='h',\n",
        "    name='Total Nominees',\n",
        "    marker=dict(color='blue', opacity=0.6),\n",
        "    text=category_counts['nominees'],\n",
        "    textposition='inside'\n",
        "))\n",
        "\n",
        "fig.add_trace(go.Bar(\n",
        "    x=category_counts['winners'],\n",
        "    y=category_counts['category'],\n",
        "    orientation='h',\n",
        "    name='Winners',\n",
        "    marker=dict(color='orange', opacity=0.8),\n",
        "    text=category_counts['winner_percentage'].apply(lambda x: f'{x:.1f}%'),\n",
        "    textposition='outside'\n",
        "))\n",
        "\n",
        "fig.update_layout(\n",
        "    title='Nominees and Winners Percentage per Category',\n",
        "    xaxis_title='Number of Nominees',\n",
        "    yaxis_title='Category',\n",
        "    yaxis=dict(\n",
        "        tickmode='linear',\n",
        "        automargin=True,\n",
        "        tickfont=dict(size=10)\n",
        "    ),\n",
        "    barmode='overlay',\n",
        "    plot_bgcolor='white',\n",
        "    height=1400\n",
        ")\n",
        "\n",
        "fig.show()\n"
      ],
      "metadata": {
        "colab": {
          "base_uri": "https://localhost:8080/",
          "height": 1000
        },
        "id": "0DKOzAk2fsoF",
        "outputId": "c3a1e468-1a53-494c-ad7a-8954d4e71601"
      },
      "execution_count": 15,
      "outputs": [
        {
          "output_type": "display_data",
          "data": {
            "text/html": [
              "<html>\n",
              "<head><meta charset=\"utf-8\" /></head>\n",
              "<body>\n",
              "    <div>            <script src=\"https://cdnjs.cloudflare.com/ajax/libs/mathjax/2.7.5/MathJax.js?config=TeX-AMS-MML_SVG\"></script><script type=\"text/javascript\">if (window.MathJax && window.MathJax.Hub && window.MathJax.Hub.Config) {window.MathJax.Hub.Config({SVG: {font: \"STIX-Web\"}});}</script>                <script type=\"text/javascript\">window.PlotlyConfig = {MathJaxConfig: 'local'};</script>\n",
              "        <script charset=\"utf-8\" src=\"https://cdn.plot.ly/plotly-2.35.2.min.js\"></script>                <div id=\"34026d9c-8512-4939-a775-07827c1a010a\" class=\"plotly-graph-div\" style=\"height:1400px; width:100%;\"></div>            <script type=\"text/javascript\">                                    window.PLOTLYENV=window.PLOTLYENV || {};                                    if (document.getElementById(\"34026d9c-8512-4939-a775-07827c1a010a\")) {                    Plotly.newPlot(                        \"34026d9c-8512-4939-a775-07827c1a010a\",                        [{\"marker\":{\"color\":\"blue\",\"opacity\":0.6},\"name\":\"Total Nominees\",\"orientation\":\"h\",\"text\":[183.0,192.0,352.0,187.0,192.0,352.0,76.0,248.0,113.0,87.0,24.0,0.0,72.0,309.0,268.0,134.0,108.0,236.0,60.0,60.0,18.0,374.0,1.0,2.0,21.0,266.0,298.0,8.0,8.0,2.0,360.0,252.0,0.0,0.0,0.0,20.0,6.0,0.0,57.0,34.0,2.0,19.0,129.0,16.0,33.0,8.0,16.0,221.0,8.0,4.0,4.0,2.0,6.0,186.0,8.0,24.0,107.0,56.0,6.0,6.0,179.0,20.0,27.0,6.0,91.0,48.0,165.0,2.0,176.0,6.0,130.0,4.0,9.0,51.0,8.0,69.0,60.0,196.0,65.0,5.0,31.0,68.0,167.0,0.0,0.0,0.0,0.0,0.0,0.0,68.0,0.0,8.0,2.0,112.0,9.0,12.0,88.0,40.0,20.0,128.0,40.0,8.0,44.0,52.0,96.0,8.0,83.0,4.0,4.0,76.0,28.0,16.0,4.0,48.0,2.0],\"textposition\":\"inside\",\"x\":[183,192,352,187,192,352,76,248,113,87,24,0,72,309,268,134,108,236,60,60,18,374,1,2,21,266,298,8,8,2,360,252,0,0,0,20,6,0,57,34,2,19,129,16,33,8,16,221,8,4,4,2,6,186,8,24,107,56,6,6,179,20,27,6,91,48,165,2,176,6,130,4,9,51,8,69,60,196,65,5,31,68,167,0,0,0,0,0,0,68,0,8,2,112,9,12,88,40,20,128,40,8,44,52,96,8,83,4,4,76,28,16,4,48,2],\"y\":[\"ACTOR\",\"ACTOR IN A LEADING ROLE\",\"ACTOR IN A SUPPORTING ROLE\",\"ACTRESS\",\"ACTRESS IN A LEADING ROLE\",\"ACTRESS IN A SUPPORTING ROLE\",\"ANIMATED FEATURE FILM\",\"ART DIRECTION\",\"ART DIRECTION (Black-and-White)\",\"ART DIRECTION (Color)\",\"ASSISTANT DIRECTOR\",\"AWARD OF COMMENDATION\",\"BEST MOTION PICTURE\",\"BEST PICTURE\",\"CINEMATOGRAPHY\",\"CINEMATOGRAPHY (Black-and-White)\",\"CINEMATOGRAPHY (Color)\",\"COSTUME DESIGN\",\"COSTUME DESIGN (Black-and-White)\",\"COSTUME DESIGN (Color)\",\"DANCE DIRECTION\",\"DIRECTING\",\"DIRECTING (Comedy Picture)\",\"DIRECTING (Dramatic Picture)\",\"DOCUMENTARY\",\"DOCUMENTARY (Feature)\",\"DOCUMENTARY (Short Subject)\",\"DOCUMENTARY FEATURE FILM\",\"DOCUMENTARY SHORT FILM\",\"ENGINEERING EFFECTS\",\"FILM EDITING\",\"FOREIGN LANGUAGE FILM\",\"GORDON E. SAWYER AWARD\",\"HONORARY AWARD\",\"HONORARY FOREIGN LANGUAGE FILM AWARD\",\"INTERNATIONAL FEATURE FILM\",\"IRVING G. THALBERG MEMORIAL AWARD\",\"JEAN HERSHOLT HUMANITARIAN AWARD\",\"MAKEUP\",\"MAKEUP AND HAIRSTYLING\",\"MUSIC (Adaptation Score)\",\"MUSIC (Music Score of a Dramatic Picture)\",\"MUSIC (Music Score of a Dramatic or Comedy Picture)\",\"MUSIC (Music Score--substantially original)\",\"MUSIC (Original Dramatic Score)\",\"MUSIC (Original Music Score)\",\"MUSIC (Original Musical or Comedy Score)\",\"MUSIC (Original Score)\",\"MUSIC (Original Score--for a motion picture [not a musical])\",\"MUSIC (Original Song Score and Its Adaptation -or- Adaptation Score)\",\"MUSIC (Original Song Score and Its Adaptation or Adaptation Score)\",\"MUSIC (Original Song Score or Adaptation Score)\",\"MUSIC (Original Song Score)\",\"MUSIC (Original Song)\",\"MUSIC (Score of a Musical Picture--original or adaptation)\",\"MUSIC (Scoring of Music--adaptation or treatment)\",\"MUSIC (Scoring of a Musical Picture)\",\"MUSIC (Scoring)\",\"MUSIC (Scoring: Adaptation and Original Song Score)\",\"MUSIC (Scoring: Original Song Score and Adaptation -or- Scoring: Adaptation)\",\"MUSIC (Song)\",\"MUSIC (Song--Original for the Picture)\",\"OUTSTANDING MOTION PICTURE\",\"OUTSTANDING PICTURE\",\"OUTSTANDING PRODUCTION\",\"PRODUCTION DESIGN\",\"SHORT FILM (Animated)\",\"SHORT FILM (Dramatic Live Action)\",\"SHORT FILM (Live Action)\",\"SHORT SUBJECT (Animated)\",\"SHORT SUBJECT (Cartoon)\",\"SHORT SUBJECT (Color)\",\"SHORT SUBJECT (Comedy)\",\"SHORT SUBJECT (Live Action)\",\"SHORT SUBJECT (Novelty)\",\"SHORT SUBJECT (One-reel)\",\"SHORT SUBJECT (Two-reel)\",\"SOUND\",\"SOUND EDITING\",\"SOUND EFFECTS\",\"SOUND EFFECTS EDITING\",\"SOUND MIXING\",\"SOUND RECORDING\",\"SPECIAL ACHIEVEMENT AWARD\",\"SPECIAL ACHIEVEMENT AWARD (Sound Editing)\",\"SPECIAL ACHIEVEMENT AWARD (Sound Effects Editing)\",\"SPECIAL ACHIEVEMENT AWARD (Sound Effects)\",\"SPECIAL ACHIEVEMENT AWARD (Visual Effects)\",\"SPECIAL AWARD\",\"SPECIAL EFFECTS\",\"SPECIAL FOREIGN LANGUAGE FILM AWARD\",\"SPECIAL VISUAL EFFECTS\",\"UNIQUE AND ARTISTIC PICTURE\",\"VISUAL EFFECTS\",\"WRITING\",\"WRITING (Adaptation)\",\"WRITING (Adapted Screenplay)\",\"WRITING (Motion Picture Story)\",\"WRITING (Original Motion Picture Story)\",\"WRITING (Original Screenplay)\",\"WRITING (Original Story)\",\"WRITING (Screenplay Adapted from Other Material)\",\"WRITING (Screenplay Based on Material Previously Produced or Published)\",\"WRITING (Screenplay Based on Material from Another Medium)\",\"WRITING (Screenplay Written Directly for the Screen)\",\"WRITING (Screenplay Written Directly for the Screen--based on factual material or on story material not previously published or produced)\",\"WRITING (Screenplay)\",\"WRITING (Screenplay--Adapted)\",\"WRITING (Screenplay--Original)\",\"WRITING (Screenplay--based on material from another medium)\",\"WRITING (Story and Screenplay)\",\"WRITING (Story and Screenplay--based on factual material or material not previously published or produced)\",\"WRITING (Story and Screenplay--based on material not previously published or produced)\",\"WRITING (Story and Screenplay--written directly for the screen)\",\"WRITING (Title Writing)\"],\"type\":\"bar\"},{\"marker\":{\"color\":\"orange\",\"opacity\":0.8},\"name\":\"Winners\",\"orientation\":\"h\",\"text\":[\"26.8%\",\"25.0%\",\"25.0%\",\"26.2%\",\"25.0%\",\"25.0%\",\"30.3%\",\"23.8%\",\"22.1%\",\"28.7%\",\"45.8%\",\"inf%\",\"25.0%\",\"20.1%\",\"26.1%\",\"20.1%\",\"25.0%\",\"25.0%\",\"28.3%\",\"28.3%\",\"16.7%\",\"25.4%\",\"100.0%\",\"50.0%\",\"19.0%\",\"29.7%\",\"26.8%\",\"25.0%\",\"25.0%\",\"50.0%\",\"25.0%\",\"25.0%\",\"inf%\",\"inf%\",\"inf%\",\"25.0%\",\"650.0%\",\"inf%\",\"52.6%\",\"35.3%\",\"50.0%\",\"5.3%\",\"14.7%\",\"25.0%\",\"24.2%\",\"25.0%\",\"25.0%\",\"22.2%\",\"25.0%\",\"50.0%\",\"50.0%\",\"50.0%\",\"33.3%\",\"26.3%\",\"25.0%\",\"25.0%\",\"18.7%\",\"14.3%\",\"33.3%\",\"50.0%\",\"20.1%\",\"25.0%\",\"11.1%\",\"33.3%\",\"12.1%\",\"25.0%\",\"30.3%\",\"50.0%\",\"28.4%\",\"50.0%\",\"30.0%\",\"50.0%\",\"44.4%\",\"33.3%\",\"50.0%\",\"30.4%\",\"35.0%\",\"25.0%\",\"32.3%\",\"100.0%\",\"51.6%\",\"25.0%\",\"16.8%\",\"inf%\",\"inf%\",\"inf%\",\"inf%\",\"inf%\",\"inf%\",\"36.8%\",\"inf%\",\"100.0%\",\"50.0%\",\"38.4%\",\"22.2%\",\"41.7%\",\"25.0%\",\"25.0%\",\"25.0%\",\"25.0%\",\"30.0%\",\"25.0%\",\"25.0%\",\"25.0%\",\"25.0%\",\"25.0%\",\"25.3%\",\"25.0%\",\"25.0%\",\"25.0%\",\"25.0%\",\"25.0%\",\"25.0%\",\"25.0%\",\"50.0%\"],\"textposition\":\"outside\",\"x\":[49,48,88,49,48,88,23,59,25,25,11,1,18,62,70,27,27,59,17,17,3,95,1,1,4,79,80,2,2,1,90,63,1,133,5,5,39,44,30,12,1,1,19,4,8,2,4,49,2,2,2,1,2,49,2,6,20,8,2,3,36,5,3,2,11,12,50,1,50,3,39,2,4,17,4,21,21,49,21,5,16,17,28,3,1,4,1,9,56,25,2,8,1,43,2,5,22,10,5,32,12,2,11,13,24,2,21,1,1,19,7,4,1,12,1],\"y\":[\"ACTOR\",\"ACTOR IN A LEADING ROLE\",\"ACTOR IN A SUPPORTING ROLE\",\"ACTRESS\",\"ACTRESS IN A LEADING ROLE\",\"ACTRESS IN A SUPPORTING ROLE\",\"ANIMATED FEATURE FILM\",\"ART DIRECTION\",\"ART DIRECTION (Black-and-White)\",\"ART DIRECTION (Color)\",\"ASSISTANT DIRECTOR\",\"AWARD OF COMMENDATION\",\"BEST MOTION PICTURE\",\"BEST PICTURE\",\"CINEMATOGRAPHY\",\"CINEMATOGRAPHY (Black-and-White)\",\"CINEMATOGRAPHY (Color)\",\"COSTUME DESIGN\",\"COSTUME DESIGN (Black-and-White)\",\"COSTUME DESIGN (Color)\",\"DANCE DIRECTION\",\"DIRECTING\",\"DIRECTING (Comedy Picture)\",\"DIRECTING (Dramatic Picture)\",\"DOCUMENTARY\",\"DOCUMENTARY (Feature)\",\"DOCUMENTARY (Short Subject)\",\"DOCUMENTARY FEATURE FILM\",\"DOCUMENTARY SHORT FILM\",\"ENGINEERING EFFECTS\",\"FILM EDITING\",\"FOREIGN LANGUAGE FILM\",\"GORDON E. SAWYER AWARD\",\"HONORARY AWARD\",\"HONORARY FOREIGN LANGUAGE FILM AWARD\",\"INTERNATIONAL FEATURE FILM\",\"IRVING G. THALBERG MEMORIAL AWARD\",\"JEAN HERSHOLT HUMANITARIAN AWARD\",\"MAKEUP\",\"MAKEUP AND HAIRSTYLING\",\"MUSIC (Adaptation Score)\",\"MUSIC (Music Score of a Dramatic Picture)\",\"MUSIC (Music Score of a Dramatic or Comedy Picture)\",\"MUSIC (Music Score--substantially original)\",\"MUSIC (Original Dramatic Score)\",\"MUSIC (Original Music Score)\",\"MUSIC (Original Musical or Comedy Score)\",\"MUSIC (Original Score)\",\"MUSIC (Original Score--for a motion picture [not a musical])\",\"MUSIC (Original Song Score and Its Adaptation -or- Adaptation Score)\",\"MUSIC (Original Song Score and Its Adaptation or Adaptation Score)\",\"MUSIC (Original Song Score or Adaptation Score)\",\"MUSIC (Original Song Score)\",\"MUSIC (Original Song)\",\"MUSIC (Score of a Musical Picture--original or adaptation)\",\"MUSIC (Scoring of Music--adaptation or treatment)\",\"MUSIC (Scoring of a Musical Picture)\",\"MUSIC (Scoring)\",\"MUSIC (Scoring: Adaptation and Original Song Score)\",\"MUSIC (Scoring: Original Song Score and Adaptation -or- Scoring: Adaptation)\",\"MUSIC (Song)\",\"MUSIC (Song--Original for the Picture)\",\"OUTSTANDING MOTION PICTURE\",\"OUTSTANDING PICTURE\",\"OUTSTANDING PRODUCTION\",\"PRODUCTION DESIGN\",\"SHORT FILM (Animated)\",\"SHORT FILM (Dramatic Live Action)\",\"SHORT FILM (Live Action)\",\"SHORT SUBJECT (Animated)\",\"SHORT SUBJECT (Cartoon)\",\"SHORT SUBJECT (Color)\",\"SHORT SUBJECT (Comedy)\",\"SHORT SUBJECT (Live Action)\",\"SHORT SUBJECT (Novelty)\",\"SHORT SUBJECT (One-reel)\",\"SHORT SUBJECT (Two-reel)\",\"SOUND\",\"SOUND EDITING\",\"SOUND EFFECTS\",\"SOUND EFFECTS EDITING\",\"SOUND MIXING\",\"SOUND RECORDING\",\"SPECIAL ACHIEVEMENT AWARD\",\"SPECIAL ACHIEVEMENT AWARD (Sound Editing)\",\"SPECIAL ACHIEVEMENT AWARD (Sound Effects Editing)\",\"SPECIAL ACHIEVEMENT AWARD (Sound Effects)\",\"SPECIAL ACHIEVEMENT AWARD (Visual Effects)\",\"SPECIAL AWARD\",\"SPECIAL EFFECTS\",\"SPECIAL FOREIGN LANGUAGE FILM AWARD\",\"SPECIAL VISUAL EFFECTS\",\"UNIQUE AND ARTISTIC PICTURE\",\"VISUAL EFFECTS\",\"WRITING\",\"WRITING (Adaptation)\",\"WRITING (Adapted Screenplay)\",\"WRITING (Motion Picture Story)\",\"WRITING (Original Motion Picture Story)\",\"WRITING (Original Screenplay)\",\"WRITING (Original Story)\",\"WRITING (Screenplay Adapted from Other Material)\",\"WRITING (Screenplay Based on Material Previously Produced or Published)\",\"WRITING (Screenplay Based on Material from Another Medium)\",\"WRITING (Screenplay Written Directly for the Screen)\",\"WRITING (Screenplay Written Directly for the Screen--based on factual material or on story material not previously published or produced)\",\"WRITING (Screenplay)\",\"WRITING (Screenplay--Adapted)\",\"WRITING (Screenplay--Original)\",\"WRITING (Screenplay--based on material from another medium)\",\"WRITING (Story and Screenplay)\",\"WRITING (Story and Screenplay--based on factual material or material not previously published or produced)\",\"WRITING (Story and Screenplay--based on material not previously published or produced)\",\"WRITING (Story and Screenplay--written directly for the screen)\",\"WRITING (Title Writing)\"],\"type\":\"bar\"}],                        {\"template\":{\"data\":{\"histogram2dcontour\":[{\"type\":\"histogram2dcontour\",\"colorbar\":{\"outlinewidth\":0,\"ticks\":\"\"},\"colorscale\":[[0.0,\"#0d0887\"],[0.1111111111111111,\"#46039f\"],[0.2222222222222222,\"#7201a8\"],[0.3333333333333333,\"#9c179e\"],[0.4444444444444444,\"#bd3786\"],[0.5555555555555556,\"#d8576b\"],[0.6666666666666666,\"#ed7953\"],[0.7777777777777778,\"#fb9f3a\"],[0.8888888888888888,\"#fdca26\"],[1.0,\"#f0f921\"]]}],\"choropleth\":[{\"type\":\"choropleth\",\"colorbar\":{\"outlinewidth\":0,\"ticks\":\"\"}}],\"histogram2d\":[{\"type\":\"histogram2d\",\"colorbar\":{\"outlinewidth\":0,\"ticks\":\"\"},\"colorscale\":[[0.0,\"#0d0887\"],[0.1111111111111111,\"#46039f\"],[0.2222222222222222,\"#7201a8\"],[0.3333333333333333,\"#9c179e\"],[0.4444444444444444,\"#bd3786\"],[0.5555555555555556,\"#d8576b\"],[0.6666666666666666,\"#ed7953\"],[0.7777777777777778,\"#fb9f3a\"],[0.8888888888888888,\"#fdca26\"],[1.0,\"#f0f921\"]]}],\"heatmap\":[{\"type\":\"heatmap\",\"colorbar\":{\"outlinewidth\":0,\"ticks\":\"\"},\"colorscale\":[[0.0,\"#0d0887\"],[0.1111111111111111,\"#46039f\"],[0.2222222222222222,\"#7201a8\"],[0.3333333333333333,\"#9c179e\"],[0.4444444444444444,\"#bd3786\"],[0.5555555555555556,\"#d8576b\"],[0.6666666666666666,\"#ed7953\"],[0.7777777777777778,\"#fb9f3a\"],[0.8888888888888888,\"#fdca26\"],[1.0,\"#f0f921\"]]}],\"heatmapgl\":[{\"type\":\"heatmapgl\",\"colorbar\":{\"outlinewidth\":0,\"ticks\":\"\"},\"colorscale\":[[0.0,\"#0d0887\"],[0.1111111111111111,\"#46039f\"],[0.2222222222222222,\"#7201a8\"],[0.3333333333333333,\"#9c179e\"],[0.4444444444444444,\"#bd3786\"],[0.5555555555555556,\"#d8576b\"],[0.6666666666666666,\"#ed7953\"],[0.7777777777777778,\"#fb9f3a\"],[0.8888888888888888,\"#fdca26\"],[1.0,\"#f0f921\"]]}],\"contourcarpet\":[{\"type\":\"contourcarpet\",\"colorbar\":{\"outlinewidth\":0,\"ticks\":\"\"}}],\"contour\":[{\"type\":\"contour\",\"colorbar\":{\"outlinewidth\":0,\"ticks\":\"\"},\"colorscale\":[[0.0,\"#0d0887\"],[0.1111111111111111,\"#46039f\"],[0.2222222222222222,\"#7201a8\"],[0.3333333333333333,\"#9c179e\"],[0.4444444444444444,\"#bd3786\"],[0.5555555555555556,\"#d8576b\"],[0.6666666666666666,\"#ed7953\"],[0.7777777777777778,\"#fb9f3a\"],[0.8888888888888888,\"#fdca26\"],[1.0,\"#f0f921\"]]}],\"surface\":[{\"type\":\"surface\",\"colorbar\":{\"outlinewidth\":0,\"ticks\":\"\"},\"colorscale\":[[0.0,\"#0d0887\"],[0.1111111111111111,\"#46039f\"],[0.2222222222222222,\"#7201a8\"],[0.3333333333333333,\"#9c179e\"],[0.4444444444444444,\"#bd3786\"],[0.5555555555555556,\"#d8576b\"],[0.6666666666666666,\"#ed7953\"],[0.7777777777777778,\"#fb9f3a\"],[0.8888888888888888,\"#fdca26\"],[1.0,\"#f0f921\"]]}],\"mesh3d\":[{\"type\":\"mesh3d\",\"colorbar\":{\"outlinewidth\":0,\"ticks\":\"\"}}],\"scatter\":[{\"fillpattern\":{\"fillmode\":\"overlay\",\"size\":10,\"solidity\":0.2},\"type\":\"scatter\"}],\"parcoords\":[{\"type\":\"parcoords\",\"line\":{\"colorbar\":{\"outlinewidth\":0,\"ticks\":\"\"}}}],\"scatterpolargl\":[{\"type\":\"scatterpolargl\",\"marker\":{\"colorbar\":{\"outlinewidth\":0,\"ticks\":\"\"}}}],\"bar\":[{\"error_x\":{\"color\":\"#2a3f5f\"},\"error_y\":{\"color\":\"#2a3f5f\"},\"marker\":{\"line\":{\"color\":\"#E5ECF6\",\"width\":0.5},\"pattern\":{\"fillmode\":\"overlay\",\"size\":10,\"solidity\":0.2}},\"type\":\"bar\"}],\"scattergeo\":[{\"type\":\"scattergeo\",\"marker\":{\"colorbar\":{\"outlinewidth\":0,\"ticks\":\"\"}}}],\"scatterpolar\":[{\"type\":\"scatterpolar\",\"marker\":{\"colorbar\":{\"outlinewidth\":0,\"ticks\":\"\"}}}],\"histogram\":[{\"marker\":{\"pattern\":{\"fillmode\":\"overlay\",\"size\":10,\"solidity\":0.2}},\"type\":\"histogram\"}],\"scattergl\":[{\"type\":\"scattergl\",\"marker\":{\"colorbar\":{\"outlinewidth\":0,\"ticks\":\"\"}}}],\"scatter3d\":[{\"type\":\"scatter3d\",\"line\":{\"colorbar\":{\"outlinewidth\":0,\"ticks\":\"\"}},\"marker\":{\"colorbar\":{\"outlinewidth\":0,\"ticks\":\"\"}}}],\"scattermapbox\":[{\"type\":\"scattermapbox\",\"marker\":{\"colorbar\":{\"outlinewidth\":0,\"ticks\":\"\"}}}],\"scatterternary\":[{\"type\":\"scatterternary\",\"marker\":{\"colorbar\":{\"outlinewidth\":0,\"ticks\":\"\"}}}],\"scattercarpet\":[{\"type\":\"scattercarpet\",\"marker\":{\"colorbar\":{\"outlinewidth\":0,\"ticks\":\"\"}}}],\"carpet\":[{\"aaxis\":{\"endlinecolor\":\"#2a3f5f\",\"gridcolor\":\"white\",\"linecolor\":\"white\",\"minorgridcolor\":\"white\",\"startlinecolor\":\"#2a3f5f\"},\"baxis\":{\"endlinecolor\":\"#2a3f5f\",\"gridcolor\":\"white\",\"linecolor\":\"white\",\"minorgridcolor\":\"white\",\"startlinecolor\":\"#2a3f5f\"},\"type\":\"carpet\"}],\"table\":[{\"cells\":{\"fill\":{\"color\":\"#EBF0F8\"},\"line\":{\"color\":\"white\"}},\"header\":{\"fill\":{\"color\":\"#C8D4E3\"},\"line\":{\"color\":\"white\"}},\"type\":\"table\"}],\"barpolar\":[{\"marker\":{\"line\":{\"color\":\"#E5ECF6\",\"width\":0.5},\"pattern\":{\"fillmode\":\"overlay\",\"size\":10,\"solidity\":0.2}},\"type\":\"barpolar\"}],\"pie\":[{\"automargin\":true,\"type\":\"pie\"}]},\"layout\":{\"autotypenumbers\":\"strict\",\"colorway\":[\"#636efa\",\"#EF553B\",\"#00cc96\",\"#ab63fa\",\"#FFA15A\",\"#19d3f3\",\"#FF6692\",\"#B6E880\",\"#FF97FF\",\"#FECB52\"],\"font\":{\"color\":\"#2a3f5f\"},\"hovermode\":\"closest\",\"hoverlabel\":{\"align\":\"left\"},\"paper_bgcolor\":\"white\",\"plot_bgcolor\":\"#E5ECF6\",\"polar\":{\"bgcolor\":\"#E5ECF6\",\"angularaxis\":{\"gridcolor\":\"white\",\"linecolor\":\"white\",\"ticks\":\"\"},\"radialaxis\":{\"gridcolor\":\"white\",\"linecolor\":\"white\",\"ticks\":\"\"}},\"ternary\":{\"bgcolor\":\"#E5ECF6\",\"aaxis\":{\"gridcolor\":\"white\",\"linecolor\":\"white\",\"ticks\":\"\"},\"baxis\":{\"gridcolor\":\"white\",\"linecolor\":\"white\",\"ticks\":\"\"},\"caxis\":{\"gridcolor\":\"white\",\"linecolor\":\"white\",\"ticks\":\"\"}},\"coloraxis\":{\"colorbar\":{\"outlinewidth\":0,\"ticks\":\"\"}},\"colorscale\":{\"sequential\":[[0.0,\"#0d0887\"],[0.1111111111111111,\"#46039f\"],[0.2222222222222222,\"#7201a8\"],[0.3333333333333333,\"#9c179e\"],[0.4444444444444444,\"#bd3786\"],[0.5555555555555556,\"#d8576b\"],[0.6666666666666666,\"#ed7953\"],[0.7777777777777778,\"#fb9f3a\"],[0.8888888888888888,\"#fdca26\"],[1.0,\"#f0f921\"]],\"sequentialminus\":[[0.0,\"#0d0887\"],[0.1111111111111111,\"#46039f\"],[0.2222222222222222,\"#7201a8\"],[0.3333333333333333,\"#9c179e\"],[0.4444444444444444,\"#bd3786\"],[0.5555555555555556,\"#d8576b\"],[0.6666666666666666,\"#ed7953\"],[0.7777777777777778,\"#fb9f3a\"],[0.8888888888888888,\"#fdca26\"],[1.0,\"#f0f921\"]],\"diverging\":[[0,\"#8e0152\"],[0.1,\"#c51b7d\"],[0.2,\"#de77ae\"],[0.3,\"#f1b6da\"],[0.4,\"#fde0ef\"],[0.5,\"#f7f7f7\"],[0.6,\"#e6f5d0\"],[0.7,\"#b8e186\"],[0.8,\"#7fbc41\"],[0.9,\"#4d9221\"],[1,\"#276419\"]]},\"xaxis\":{\"gridcolor\":\"white\",\"linecolor\":\"white\",\"ticks\":\"\",\"title\":{\"standoff\":15},\"zerolinecolor\":\"white\",\"automargin\":true,\"zerolinewidth\":2},\"yaxis\":{\"gridcolor\":\"white\",\"linecolor\":\"white\",\"ticks\":\"\",\"title\":{\"standoff\":15},\"zerolinecolor\":\"white\",\"automargin\":true,\"zerolinewidth\":2},\"scene\":{\"xaxis\":{\"backgroundcolor\":\"#E5ECF6\",\"gridcolor\":\"white\",\"linecolor\":\"white\",\"showbackground\":true,\"ticks\":\"\",\"zerolinecolor\":\"white\",\"gridwidth\":2},\"yaxis\":{\"backgroundcolor\":\"#E5ECF6\",\"gridcolor\":\"white\",\"linecolor\":\"white\",\"showbackground\":true,\"ticks\":\"\",\"zerolinecolor\":\"white\",\"gridwidth\":2},\"zaxis\":{\"backgroundcolor\":\"#E5ECF6\",\"gridcolor\":\"white\",\"linecolor\":\"white\",\"showbackground\":true,\"ticks\":\"\",\"zerolinecolor\":\"white\",\"gridwidth\":2}},\"shapedefaults\":{\"line\":{\"color\":\"#2a3f5f\"}},\"annotationdefaults\":{\"arrowcolor\":\"#2a3f5f\",\"arrowhead\":0,\"arrowwidth\":1},\"geo\":{\"bgcolor\":\"white\",\"landcolor\":\"#E5ECF6\",\"subunitcolor\":\"white\",\"showland\":true,\"showlakes\":true,\"lakecolor\":\"white\"},\"title\":{\"x\":0.05},\"mapbox\":{\"style\":\"light\"}}},\"yaxis\":{\"tickfont\":{\"size\":10},\"title\":{\"text\":\"Category\"},\"tickmode\":\"linear\",\"automargin\":true},\"title\":{\"text\":\"Nominees and Winners Percentage per Category\"},\"xaxis\":{\"title\":{\"text\":\"Number of Nominees\"}},\"barmode\":\"overlay\",\"plot_bgcolor\":\"white\",\"height\":1400},                        {\"responsive\": true}                    ).then(function(){\n",
              "                            \n",
              "var gd = document.getElementById('34026d9c-8512-4939-a775-07827c1a010a');\n",
              "var x = new MutationObserver(function (mutations, observer) {{\n",
              "        var display = window.getComputedStyle(gd).display;\n",
              "        if (!display || display === 'none') {{\n",
              "            console.log([gd, 'removed!']);\n",
              "            Plotly.purge(gd);\n",
              "            observer.disconnect();\n",
              "        }}\n",
              "}});\n",
              "\n",
              "// Listen for the removal of the full notebook cells\n",
              "var notebookContainer = gd.closest('#notebook-container');\n",
              "if (notebookContainer) {{\n",
              "    x.observe(notebookContainer, {childList: true});\n",
              "}}\n",
              "\n",
              "// Listen for the clearing of the current output cell\n",
              "var outputEl = gd.closest('.output');\n",
              "if (outputEl) {{\n",
              "    x.observe(outputEl, {childList: true});\n",
              "}}\n",
              "\n",
              "                        })                };                            </script>        </div>\n",
              "</body>\n",
              "</html>"
            ]
          },
          "metadata": {}
        }
      ]
    },
    {
      "cell_type": "markdown",
      "source": [
        "# **Percentage Distribution of Awards by Decades**"
      ],
      "metadata": {
        "id": "wC890MtaXkG2"
      }
    },
    {
      "cell_type": "code",
      "source": [
        "\n",
        "df['decade'] = (df['year_film'] // 10) * 10\n",
        "\n",
        "decade_distribution = df['decade'].value_counts().reset_index()\n",
        "decade_distribution.columns = ['decade', 'count']\n",
        "decade_distribution = decade_distribution.sort_values(by='decade')\n",
        "\n",
        "fig = px.pie(\n",
        "    decade_distribution,\n",
        "    values='count',\n",
        "    names='decade',\n",
        "    title='Percentage Distribution of Awards by Decades',\n",
        "    hole=0.4,\n",
        "    labels={'decade': 'Decade', 'count': 'Count'},\n",
        ")\n",
        "\n",
        "fig.update_traces(\n",
        "    textinfo='percent+label',\n",
        "    hoverinfo='label+value+percent'\n",
        ")\n",
        "fig.update_layout(\n",
        "    title_x=0.5,\n",
        "    showlegend=True,\n",
        "    legend_title_text=\"Decades\"\n",
        ")\n",
        "\n",
        "fig.show()\n"
      ],
      "metadata": {
        "colab": {
          "base_uri": "https://localhost:8080/",
          "height": 542
        },
        "id": "cfVy6Tl9RPVt",
        "outputId": "816b5d12-67e9-4250-c846-10a9a6054ed4"
      },
      "execution_count": 16,
      "outputs": [
        {
          "output_type": "display_data",
          "data": {
            "text/html": [
              "<html>\n",
              "<head><meta charset=\"utf-8\" /></head>\n",
              "<body>\n",
              "    <div>            <script src=\"https://cdnjs.cloudflare.com/ajax/libs/mathjax/2.7.5/MathJax.js?config=TeX-AMS-MML_SVG\"></script><script type=\"text/javascript\">if (window.MathJax && window.MathJax.Hub && window.MathJax.Hub.Config) {window.MathJax.Hub.Config({SVG: {font: \"STIX-Web\"}});}</script>                <script type=\"text/javascript\">window.PlotlyConfig = {MathJaxConfig: 'local'};</script>\n",
              "        <script charset=\"utf-8\" src=\"https://cdn.plot.ly/plotly-2.35.2.min.js\"></script>                <div id=\"cb6248ca-1e20-4aeb-ac59-71d83ccbeb03\" class=\"plotly-graph-div\" style=\"height:525px; width:100%;\"></div>            <script type=\"text/javascript\">                                    window.PLOTLYENV=window.PLOTLYENV || {};                                    if (document.getElementById(\"cb6248ca-1e20-4aeb-ac59-71d83ccbeb03\")) {                    Plotly.newPlot(                        \"cb6248ca-1e20-4aeb-ac59-71d83ccbeb03\",                        [{\"domain\":{\"x\":[0.0,1.0],\"y\":[0.0,1.0]},\"hole\":0.4,\"hovertemplate\":\"Decade=%{label}\\u003cbr\\u003eCount=%{value}\\u003cextra\\u003e\\u003c\\u002fextra\\u003e\",\"labels\":[1920,1930,1940,1950,1960,1970,1980,1990,2000,2010,2020],\"legendgroup\":\"\",\"name\":\"\",\"showlegend\":true,\"values\":[115,812,1470,1195,1181,1062,1054,1118,1135,1253,494],\"type\":\"pie\",\"hoverinfo\":\"label+value+percent\",\"textinfo\":\"percent+label\"}],                        {\"template\":{\"data\":{\"histogram2dcontour\":[{\"type\":\"histogram2dcontour\",\"colorbar\":{\"outlinewidth\":0,\"ticks\":\"\"},\"colorscale\":[[0.0,\"#0d0887\"],[0.1111111111111111,\"#46039f\"],[0.2222222222222222,\"#7201a8\"],[0.3333333333333333,\"#9c179e\"],[0.4444444444444444,\"#bd3786\"],[0.5555555555555556,\"#d8576b\"],[0.6666666666666666,\"#ed7953\"],[0.7777777777777778,\"#fb9f3a\"],[0.8888888888888888,\"#fdca26\"],[1.0,\"#f0f921\"]]}],\"choropleth\":[{\"type\":\"choropleth\",\"colorbar\":{\"outlinewidth\":0,\"ticks\":\"\"}}],\"histogram2d\":[{\"type\":\"histogram2d\",\"colorbar\":{\"outlinewidth\":0,\"ticks\":\"\"},\"colorscale\":[[0.0,\"#0d0887\"],[0.1111111111111111,\"#46039f\"],[0.2222222222222222,\"#7201a8\"],[0.3333333333333333,\"#9c179e\"],[0.4444444444444444,\"#bd3786\"],[0.5555555555555556,\"#d8576b\"],[0.6666666666666666,\"#ed7953\"],[0.7777777777777778,\"#fb9f3a\"],[0.8888888888888888,\"#fdca26\"],[1.0,\"#f0f921\"]]}],\"heatmap\":[{\"type\":\"heatmap\",\"colorbar\":{\"outlinewidth\":0,\"ticks\":\"\"},\"colorscale\":[[0.0,\"#0d0887\"],[0.1111111111111111,\"#46039f\"],[0.2222222222222222,\"#7201a8\"],[0.3333333333333333,\"#9c179e\"],[0.4444444444444444,\"#bd3786\"],[0.5555555555555556,\"#d8576b\"],[0.6666666666666666,\"#ed7953\"],[0.7777777777777778,\"#fb9f3a\"],[0.8888888888888888,\"#fdca26\"],[1.0,\"#f0f921\"]]}],\"heatmapgl\":[{\"type\":\"heatmapgl\",\"colorbar\":{\"outlinewidth\":0,\"ticks\":\"\"},\"colorscale\":[[0.0,\"#0d0887\"],[0.1111111111111111,\"#46039f\"],[0.2222222222222222,\"#7201a8\"],[0.3333333333333333,\"#9c179e\"],[0.4444444444444444,\"#bd3786\"],[0.5555555555555556,\"#d8576b\"],[0.6666666666666666,\"#ed7953\"],[0.7777777777777778,\"#fb9f3a\"],[0.8888888888888888,\"#fdca26\"],[1.0,\"#f0f921\"]]}],\"contourcarpet\":[{\"type\":\"contourcarpet\",\"colorbar\":{\"outlinewidth\":0,\"ticks\":\"\"}}],\"contour\":[{\"type\":\"contour\",\"colorbar\":{\"outlinewidth\":0,\"ticks\":\"\"},\"colorscale\":[[0.0,\"#0d0887\"],[0.1111111111111111,\"#46039f\"],[0.2222222222222222,\"#7201a8\"],[0.3333333333333333,\"#9c179e\"],[0.4444444444444444,\"#bd3786\"],[0.5555555555555556,\"#d8576b\"],[0.6666666666666666,\"#ed7953\"],[0.7777777777777778,\"#fb9f3a\"],[0.8888888888888888,\"#fdca26\"],[1.0,\"#f0f921\"]]}],\"surface\":[{\"type\":\"surface\",\"colorbar\":{\"outlinewidth\":0,\"ticks\":\"\"},\"colorscale\":[[0.0,\"#0d0887\"],[0.1111111111111111,\"#46039f\"],[0.2222222222222222,\"#7201a8\"],[0.3333333333333333,\"#9c179e\"],[0.4444444444444444,\"#bd3786\"],[0.5555555555555556,\"#d8576b\"],[0.6666666666666666,\"#ed7953\"],[0.7777777777777778,\"#fb9f3a\"],[0.8888888888888888,\"#fdca26\"],[1.0,\"#f0f921\"]]}],\"mesh3d\":[{\"type\":\"mesh3d\",\"colorbar\":{\"outlinewidth\":0,\"ticks\":\"\"}}],\"scatter\":[{\"fillpattern\":{\"fillmode\":\"overlay\",\"size\":10,\"solidity\":0.2},\"type\":\"scatter\"}],\"parcoords\":[{\"type\":\"parcoords\",\"line\":{\"colorbar\":{\"outlinewidth\":0,\"ticks\":\"\"}}}],\"scatterpolargl\":[{\"type\":\"scatterpolargl\",\"marker\":{\"colorbar\":{\"outlinewidth\":0,\"ticks\":\"\"}}}],\"bar\":[{\"error_x\":{\"color\":\"#2a3f5f\"},\"error_y\":{\"color\":\"#2a3f5f\"},\"marker\":{\"line\":{\"color\":\"#E5ECF6\",\"width\":0.5},\"pattern\":{\"fillmode\":\"overlay\",\"size\":10,\"solidity\":0.2}},\"type\":\"bar\"}],\"scattergeo\":[{\"type\":\"scattergeo\",\"marker\":{\"colorbar\":{\"outlinewidth\":0,\"ticks\":\"\"}}}],\"scatterpolar\":[{\"type\":\"scatterpolar\",\"marker\":{\"colorbar\":{\"outlinewidth\":0,\"ticks\":\"\"}}}],\"histogram\":[{\"marker\":{\"pattern\":{\"fillmode\":\"overlay\",\"size\":10,\"solidity\":0.2}},\"type\":\"histogram\"}],\"scattergl\":[{\"type\":\"scattergl\",\"marker\":{\"colorbar\":{\"outlinewidth\":0,\"ticks\":\"\"}}}],\"scatter3d\":[{\"type\":\"scatter3d\",\"line\":{\"colorbar\":{\"outlinewidth\":0,\"ticks\":\"\"}},\"marker\":{\"colorbar\":{\"outlinewidth\":0,\"ticks\":\"\"}}}],\"scattermapbox\":[{\"type\":\"scattermapbox\",\"marker\":{\"colorbar\":{\"outlinewidth\":0,\"ticks\":\"\"}}}],\"scatterternary\":[{\"type\":\"scatterternary\",\"marker\":{\"colorbar\":{\"outlinewidth\":0,\"ticks\":\"\"}}}],\"scattercarpet\":[{\"type\":\"scattercarpet\",\"marker\":{\"colorbar\":{\"outlinewidth\":0,\"ticks\":\"\"}}}],\"carpet\":[{\"aaxis\":{\"endlinecolor\":\"#2a3f5f\",\"gridcolor\":\"white\",\"linecolor\":\"white\",\"minorgridcolor\":\"white\",\"startlinecolor\":\"#2a3f5f\"},\"baxis\":{\"endlinecolor\":\"#2a3f5f\",\"gridcolor\":\"white\",\"linecolor\":\"white\",\"minorgridcolor\":\"white\",\"startlinecolor\":\"#2a3f5f\"},\"type\":\"carpet\"}],\"table\":[{\"cells\":{\"fill\":{\"color\":\"#EBF0F8\"},\"line\":{\"color\":\"white\"}},\"header\":{\"fill\":{\"color\":\"#C8D4E3\"},\"line\":{\"color\":\"white\"}},\"type\":\"table\"}],\"barpolar\":[{\"marker\":{\"line\":{\"color\":\"#E5ECF6\",\"width\":0.5},\"pattern\":{\"fillmode\":\"overlay\",\"size\":10,\"solidity\":0.2}},\"type\":\"barpolar\"}],\"pie\":[{\"automargin\":true,\"type\":\"pie\"}]},\"layout\":{\"autotypenumbers\":\"strict\",\"colorway\":[\"#636efa\",\"#EF553B\",\"#00cc96\",\"#ab63fa\",\"#FFA15A\",\"#19d3f3\",\"#FF6692\",\"#B6E880\",\"#FF97FF\",\"#FECB52\"],\"font\":{\"color\":\"#2a3f5f\"},\"hovermode\":\"closest\",\"hoverlabel\":{\"align\":\"left\"},\"paper_bgcolor\":\"white\",\"plot_bgcolor\":\"#E5ECF6\",\"polar\":{\"bgcolor\":\"#E5ECF6\",\"angularaxis\":{\"gridcolor\":\"white\",\"linecolor\":\"white\",\"ticks\":\"\"},\"radialaxis\":{\"gridcolor\":\"white\",\"linecolor\":\"white\",\"ticks\":\"\"}},\"ternary\":{\"bgcolor\":\"#E5ECF6\",\"aaxis\":{\"gridcolor\":\"white\",\"linecolor\":\"white\",\"ticks\":\"\"},\"baxis\":{\"gridcolor\":\"white\",\"linecolor\":\"white\",\"ticks\":\"\"},\"caxis\":{\"gridcolor\":\"white\",\"linecolor\":\"white\",\"ticks\":\"\"}},\"coloraxis\":{\"colorbar\":{\"outlinewidth\":0,\"ticks\":\"\"}},\"colorscale\":{\"sequential\":[[0.0,\"#0d0887\"],[0.1111111111111111,\"#46039f\"],[0.2222222222222222,\"#7201a8\"],[0.3333333333333333,\"#9c179e\"],[0.4444444444444444,\"#bd3786\"],[0.5555555555555556,\"#d8576b\"],[0.6666666666666666,\"#ed7953\"],[0.7777777777777778,\"#fb9f3a\"],[0.8888888888888888,\"#fdca26\"],[1.0,\"#f0f921\"]],\"sequentialminus\":[[0.0,\"#0d0887\"],[0.1111111111111111,\"#46039f\"],[0.2222222222222222,\"#7201a8\"],[0.3333333333333333,\"#9c179e\"],[0.4444444444444444,\"#bd3786\"],[0.5555555555555556,\"#d8576b\"],[0.6666666666666666,\"#ed7953\"],[0.7777777777777778,\"#fb9f3a\"],[0.8888888888888888,\"#fdca26\"],[1.0,\"#f0f921\"]],\"diverging\":[[0,\"#8e0152\"],[0.1,\"#c51b7d\"],[0.2,\"#de77ae\"],[0.3,\"#f1b6da\"],[0.4,\"#fde0ef\"],[0.5,\"#f7f7f7\"],[0.6,\"#e6f5d0\"],[0.7,\"#b8e186\"],[0.8,\"#7fbc41\"],[0.9,\"#4d9221\"],[1,\"#276419\"]]},\"xaxis\":{\"gridcolor\":\"white\",\"linecolor\":\"white\",\"ticks\":\"\",\"title\":{\"standoff\":15},\"zerolinecolor\":\"white\",\"automargin\":true,\"zerolinewidth\":2},\"yaxis\":{\"gridcolor\":\"white\",\"linecolor\":\"white\",\"ticks\":\"\",\"title\":{\"standoff\":15},\"zerolinecolor\":\"white\",\"automargin\":true,\"zerolinewidth\":2},\"scene\":{\"xaxis\":{\"backgroundcolor\":\"#E5ECF6\",\"gridcolor\":\"white\",\"linecolor\":\"white\",\"showbackground\":true,\"ticks\":\"\",\"zerolinecolor\":\"white\",\"gridwidth\":2},\"yaxis\":{\"backgroundcolor\":\"#E5ECF6\",\"gridcolor\":\"white\",\"linecolor\":\"white\",\"showbackground\":true,\"ticks\":\"\",\"zerolinecolor\":\"white\",\"gridwidth\":2},\"zaxis\":{\"backgroundcolor\":\"#E5ECF6\",\"gridcolor\":\"white\",\"linecolor\":\"white\",\"showbackground\":true,\"ticks\":\"\",\"zerolinecolor\":\"white\",\"gridwidth\":2}},\"shapedefaults\":{\"line\":{\"color\":\"#2a3f5f\"}},\"annotationdefaults\":{\"arrowcolor\":\"#2a3f5f\",\"arrowhead\":0,\"arrowwidth\":1},\"geo\":{\"bgcolor\":\"white\",\"landcolor\":\"#E5ECF6\",\"subunitcolor\":\"white\",\"showland\":true,\"showlakes\":true,\"lakecolor\":\"white\"},\"title\":{\"x\":0.05},\"mapbox\":{\"style\":\"light\"}}},\"legend\":{\"tracegroupgap\":0,\"title\":{\"text\":\"Decades\"}},\"title\":{\"text\":\"Percentage Distribution of Awards by Decades\",\"x\":0.5},\"showlegend\":true},                        {\"responsive\": true}                    ).then(function(){\n",
              "                            \n",
              "var gd = document.getElementById('cb6248ca-1e20-4aeb-ac59-71d83ccbeb03');\n",
              "var x = new MutationObserver(function (mutations, observer) {{\n",
              "        var display = window.getComputedStyle(gd).display;\n",
              "        if (!display || display === 'none') {{\n",
              "            console.log([gd, 'removed!']);\n",
              "            Plotly.purge(gd);\n",
              "            observer.disconnect();\n",
              "        }}\n",
              "}});\n",
              "\n",
              "// Listen for the removal of the full notebook cells\n",
              "var notebookContainer = gd.closest('#notebook-container');\n",
              "if (notebookContainer) {{\n",
              "    x.observe(notebookContainer, {childList: true});\n",
              "}}\n",
              "\n",
              "// Listen for the clearing of the current output cell\n",
              "var outputEl = gd.closest('.output');\n",
              "if (outputEl) {{\n",
              "    x.observe(outputEl, {childList: true});\n",
              "}}\n",
              "\n",
              "                        })                };                            </script>        </div>\n",
              "</body>\n",
              "</html>"
            ]
          },
          "metadata": {}
        }
      ]
    }
  ]
}